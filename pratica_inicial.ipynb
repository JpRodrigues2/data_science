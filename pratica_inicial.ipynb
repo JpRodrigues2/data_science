{
 "cells": [
  {
   "cell_type": "code",
   "execution_count": 1,
   "id": "5dc99f5c-a16c-473b-b222-edd64b3e0910",
   "metadata": {},
   "outputs": [
    {
     "name": "stdout",
     "output_type": "stream",
     "text": [
      "quantos numeros tem sua lista?\n"
     ]
    },
    {
     "name": "stdin",
     "output_type": "stream",
     "text": [
      " 5\n",
      "Digite o número 1: 1\n",
      "Digite o número 2: 2\n",
      "Digite o número 3: 3\n",
      "Digite o número 4: 4\n",
      "Digite o número 5: 5\n"
     ]
    },
    {
     "name": "stdout",
     "output_type": "stream",
     "text": [
      "A amplitude dessa lista é 4\n"
     ]
    }
   ],
   "source": [
    "lista = []\n",
    "\n",
    "def add():\n",
    "    print('quantos numeros tem sua lista?')\n",
    "    x = int(input())\n",
    "\n",
    "    for i in range(x):\n",
    "        numero = int(input(f\"Digite o número {i+1}:\"))\n",
    "        lista.append(numero)\n",
    "\n",
    "add()\n",
    "def amplitude():\n",
    "    x =  max(lista)\n",
    "    y=  min(lista)\n",
    "\n",
    "    res = x - y\n",
    "    print(f\"A amplitude dessa lista é {res}\")\n",
    "\n",
    "amplitude()\n",
    "\n",
    "        \n",
    "\n"
   ]
  },
  {
   "cell_type": "code",
   "execution_count": 36,
   "id": "eef2c26f-eaf4-45db-94e6-2de7a4c9b80b",
   "metadata": {},
   "outputs": [
    {
     "name": "stdin",
     "output_type": "stream",
     "text": [
      "digite a palavra palavra\n"
     ]
    },
    {
     "name": "stdout",
     "output_type": "stream",
     "text": [
      "p\n",
      "a\n",
      "l\n",
      "a\n",
      "v\n",
      "r\n",
      "a\n"
     ]
    }
   ],
   "source": [
    "def imprime():\n",
    "    x = str(input(\"digite a palavra\"))\n",
    "    for i in x:\n",
    "        print(i)\n",
    "\n",
    "imprime()\n",
    "\n",
    "    \n"
   ]
  },
  {
   "cell_type": "code",
   "execution_count": 45,
   "id": "7ef7786b-9c19-4252-ace2-f422f9906c1f",
   "metadata": {},
   "outputs": [
    {
     "name": "stdin",
     "output_type": "stream",
     "text": [
      "digite o peso da carga 100\n"
     ]
    },
    {
     "name": "stdout",
     "output_type": "stream",
     "text": [
      "Não é possível transportar essa carga\n"
     ]
    }
   ],
   "source": [
    "def frete():\n",
    "    x = float(input(\"digite o peso da carga\"))\n",
    "    if x <= 10.0:\n",
    "        print('Custa 50 reais')\n",
    "    elif 10 < x <= 20:\n",
    "        print(\"custa 80 reais\")\n",
    "    else:\n",
    "        print(\"Não é possível transportar essa carga\")\n",
    "\n",
    "frete()"
   ]
  },
  {
   "cell_type": "code",
   "execution_count": null,
   "id": "e82102b5-3a4e-4834-839a-86e7e62ddd8f",
   "metadata": {},
   "outputs": [],
   "source": []
  }
 ],
 "metadata": {
  "kernelspec": {
   "display_name": "Python 3 (ipykernel)",
   "language": "python",
   "name": "python3"
  },
  "language_info": {
   "codemirror_mode": {
    "name": "ipython",
    "version": 3
   },
   "file_extension": ".py",
   "mimetype": "text/x-python",
   "name": "python",
   "nbconvert_exporter": "python",
   "pygments_lexer": "ipython3",
   "version": "3.12.7"
  }
 },
 "nbformat": 4,
 "nbformat_minor": 5
}
