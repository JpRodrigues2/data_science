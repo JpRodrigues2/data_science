{
 "cells": [
  {
   "cell_type": "code",
   "execution_count": 1,
   "id": "020f9aef-eefb-4774-a244-11629afb52e4",
   "metadata": {},
   "outputs": [],
   "source": [
    "import numpy as np\n",
    "from scipy import stats"
   ]
  },
  {
   "cell_type": "code",
   "execution_count": 3,
   "id": "75b17987-f8c9-4cf2-ba17-adff0f0319b4",
   "metadata": {},
   "outputs": [
    {
     "data": {
      "text/plain": [
       "32111.11111111111"
      ]
     },
     "execution_count": 3,
     "metadata": {},
     "output_type": "execute_result"
    }
   ],
   "source": [
    "jogadores = [40000,18000, 12000, 25000, 30000, 14000, 30000,40000,80000]\n",
    "np.mean(jogadores)"
   ]
  },
  {
   "cell_type": "code",
   "execution_count": 6,
   "id": "0074ad8d-4030-4546-8af6-f11bbed61900",
   "metadata": {},
   "outputs": [
    {
     "data": {
      "text/plain": [
       "30000.0"
      ]
     },
     "execution_count": 6,
     "metadata": {},
     "output_type": "execute_result"
    }
   ],
   "source": [
    "np.median(jogadores)"
   ]
  },
  {
   "cell_type": "code",
   "execution_count": 11,
   "id": "b49f4677-f978-4715-afa5-62eeb23094a5",
   "metadata": {},
   "outputs": [
    {
     "data": {
      "text/plain": [
       "array([12000., 18000., 30000., 40000., 80000.])"
      ]
     },
     "execution_count": 11,
     "metadata": {},
     "output_type": "execute_result"
    }
   ],
   "source": [
    "quartis = np.quantile(jogadores, [0, 0.25, 0.5, 0.75,1]) #QUARTIS\n",
    "quartis"
   ]
  },
  {
   "cell_type": "code",
   "execution_count": 18,
   "id": "b733867a-a138-49d8-a086-16d145c77148",
   "metadata": {},
   "outputs": [
    {
     "data": {
      "text/plain": [
       "20642.45894052138"
      ]
     },
     "execution_count": 18,
     "metadata": {},
     "output_type": "execute_result"
    }
   ],
   "source": [
    "np.std(jogadores, ddof = 1) #GERA O DESVIO PADRAO\n",
    "                            #DDOF = GRAU DE LIBERDADE (N-1)"
   ]
  },
  {
   "cell_type": "code",
   "execution_count": 19,
   "id": "f0d6d908-4336-47ca-b14d-1a52ec695725",
   "metadata": {},
   "outputs": [
    {
     "data": {
      "text/plain": [
       "DescribeResult(nobs=9, minmax=(12000, 80000), mean=32111.11111111111, variance=426111111.1111111, skewness=1.4100065573314973, kurtosis=1.3221328037750162)"
      ]
     },
     "execution_count": 19,
     "metadata": {},
     "output_type": "execute_result"
    }
   ],
   "source": [
    "stats.describe(jogadores)  "
   ]
  },
  {
   "cell_type": "code",
   "execution_count": null,
   "id": "484c7a3f-abd7-4df2-a66a-25cdd6175592",
   "metadata": {},
   "outputs": [],
   "source": []
  }
 ],
 "metadata": {
  "kernelspec": {
   "display_name": "Python 3 (ipykernel)",
   "language": "python",
   "name": "python3"
  },
  "language_info": {
   "codemirror_mode": {
    "name": "ipython",
    "version": 3
   },
   "file_extension": ".py",
   "mimetype": "text/x-python",
   "name": "python",
   "nbconvert_exporter": "python",
   "pygments_lexer": "ipython3",
   "version": "3.12.7"
  }
 },
 "nbformat": 4,
 "nbformat_minor": 5
}
