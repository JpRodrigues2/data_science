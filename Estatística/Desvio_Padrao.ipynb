{
 "cells": [
  {
   "cell_type": "code",
   "execution_count": 1,
   "id": "e3245626-7b51-48c9-b542-a1cbf8f57a81",
   "metadata": {},
   "outputs": [],
   "source": [
    "from scipy.stats import norm"
   ]
  },
  {
   "cell_type": "code",
   "execution_count": 3,
   "id": "b52b478c-7913-4071-9e29-d75b77ada780",
   "metadata": {},
   "outputs": [
    {
     "data": {
      "text/plain": [
       "0.15865525393145707"
      ]
     },
     "execution_count": 3,
     "metadata": {},
     "output_type": "execute_result"
    }
   ],
   "source": [
    "norm.cdf(6,8,2)\n",
    "#distribuição normal =<6, com média = 8 e desvio padrão = 2.\n",
    "\n"
   ]
  },
  {
   "cell_type": "code",
   "execution_count": 6,
   "id": "6a3ec36e-2c74-4989-a881-b899423799f2",
   "metadata": {},
   "outputs": [
    {
     "data": {
      "text/plain": [
       "0.8413447460685429"
      ]
     },
     "execution_count": 6,
     "metadata": {},
     "output_type": "execute_result"
    }
   ],
   "source": [
    "norm.sf(6,8,9)\n",
    "#distribuição normal >= 6, com média = 8 e desvio padrão = 2\n",
    "\n",
    "1 - norm.cdf(6,8,2) #mesma coisa de 'sf'"
   ]
  },
  {
   "cell_type": "code",
   "execution_count": 7,
   "id": "531d2523-a825-4895-80b2-bf4431b4462e",
   "metadata": {},
   "outputs": [
    {
     "data": {
      "text/plain": [
       "0.31731050786291415"
      ]
     },
     "execution_count": 7,
     "metadata": {},
     "output_type": "execute_result"
    }
   ],
   "source": [
    "#probabilidade de tirar um obj. menor que 6 ou maior que 10\n",
    "\n",
    "norm.cdf(6,8,2) + norm.sf(10,8,2)"
   ]
  },
  {
   "cell_type": "code",
   "execution_count": 9,
   "id": "79da5894-c924-46d8-8c83-7d221d4b85b0",
   "metadata": {},
   "outputs": [
    {
     "data": {
      "text/plain": [
       "0.3413447460685429"
      ]
     },
     "execution_count": 9,
     "metadata": {},
     "output_type": "execute_result"
    }
   ],
   "source": [
    "#probabilidade de tirar um obj. menor que 10 e maior que 8\n",
    "\n",
    "norm.cdf(10,8,2) - norm.cdf(8,8,2)"
   ]
  },
  {
   "cell_type": "code",
   "execution_count": null,
   "id": "1100bccc-89f2-486d-9f93-b5d3ced0dbc7",
   "metadata": {},
   "outputs": [],
   "source": []
  }
 ],
 "metadata": {
  "kernelspec": {
   "display_name": "Python 3 (ipykernel)",
   "language": "python",
   "name": "python3"
  },
  "language_info": {
   "codemirror_mode": {
    "name": "ipython",
    "version": 3
   },
   "file_extension": ".py",
   "mimetype": "text/x-python",
   "name": "python",
   "nbconvert_exporter": "python",
   "pygments_lexer": "ipython3",
   "version": "3.12.7"
  }
 },
 "nbformat": 4,
 "nbformat_minor": 5
}
