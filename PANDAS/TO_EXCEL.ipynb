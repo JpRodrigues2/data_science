{
 "cells": [
  {
   "cell_type": "markdown",
   "id": "3d10aad6-fe41-4ff3-ba67-9b66040041a1",
   "metadata": {},
   "source": [
    "## df.to_excel(excel_writer, sheet_name='Sheet1', index=True, header=True)\n"
   ]
  },
  {
   "cell_type": "code",
   "execution_count": 1,
   "id": "20e96e71-b23f-47ee-9ff9-876c440782a1",
   "metadata": {},
   "outputs": [],
   "source": [
    "# excel_writer --> endereço do arquivo excel  \n",
    "#sheet_name --> nome da planilha"
   ]
  }
 ],
 "metadata": {
  "kernelspec": {
   "display_name": "Python [conda env:base] *",
   "language": "python",
   "name": "conda-base-py"
  },
  "language_info": {
   "codemirror_mode": {
    "name": "ipython",
    "version": 3
   },
   "file_extension": ".py",
   "mimetype": "text/x-python",
   "name": "python",
   "nbconvert_exporter": "python",
   "pygments_lexer": "ipython3",
   "version": "3.12.7"
  }
 },
 "nbformat": 4,
 "nbformat_minor": 5
}
