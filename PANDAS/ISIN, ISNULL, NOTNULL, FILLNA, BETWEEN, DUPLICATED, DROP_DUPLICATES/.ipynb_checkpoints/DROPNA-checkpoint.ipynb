{
 "cells": [
  {
   "cell_type": "code",
   "execution_count": null,
   "id": "50a30852-7982-466c-8bdc-31f7decaa9cc",
   "metadata": {},
   "outputs": [],
   "source": [
    "df.dropna(axis=0, how='any', thresh=None, subset=None, inplace=False)\n",
    "\n"
   ]
  },
  {
   "cell_type": "markdown",
   "id": "4b92e270-ea27-4bfd-b6b4-cc22758667f5",
   "metadata": {},
   "source": [
    "### axis=0 → Remove linhas com NaN (padrão).\n",
    "### axis=1 → Remove colunas com NaN.\n",
    "### how='any' → Remove a linha/coluna se qualquer valor for NaN (padrão).\n",
    "### how='all' → Remove a linha/coluna somente se todos os valores forem NaN.\n",
    "### thresh=n → Mantém linhas/colunas que tenham pelo menos n valores não nulos.\n",
    "### subset=['col1', 'col2'] → Considera apenas colunas específicas ao remover NaN.\n",
    "### inplace=True → Modifica o DataFrame original (sem criar uma cópia)."
   ]
  },
  {
   "cell_type": "code",
   "execution_count": null,
   "id": "73ec146a-c7ac-43ff-835d-6f25b2f4d226",
   "metadata": {},
   "outputs": [],
   "source": []
  }
 ],
 "metadata": {
  "kernelspec": {
   "display_name": "Python [conda env:base] *",
   "language": "python",
   "name": "conda-base-py"
  },
  "language_info": {
   "codemirror_mode": {
    "name": "ipython",
    "version": 3
   },
   "file_extension": ".py",
   "mimetype": "text/x-python",
   "name": "python",
   "nbconvert_exporter": "python",
   "pygments_lexer": "ipython3",
   "version": "3.12.7"
  }
 },
 "nbformat": 4,
 "nbformat_minor": 5
}
