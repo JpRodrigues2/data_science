{
 "cells": [
  {
   "cell_type": "markdown",
   "id": "e6777498-4586-4193-a199-d1ed6297596b",
   "metadata": {},
   "source": [
    "# SORT_VALUES\n",
    "### O método sort_values() é usado para ordenar os valores de uma coluna ou várias colunas."
   ]
  },
  {
   "cell_type": "code",
   "execution_count": 30,
   "id": "719bb89c-cf0c-41f6-9ace-0d584ba02ba9",
   "metadata": {},
   "outputs": [
    {
     "data": {
      "text/html": [
       "<div>\n",
       "<style scoped>\n",
       "    .dataframe tbody tr th:only-of-type {\n",
       "        vertical-align: middle;\n",
       "    }\n",
       "\n",
       "    .dataframe tbody tr th {\n",
       "        vertical-align: top;\n",
       "    }\n",
       "\n",
       "    .dataframe thead th {\n",
       "        text-align: right;\n",
       "    }\n",
       "</style>\n",
       "<table border=\"1\" class=\"dataframe\">\n",
       "  <thead>\n",
       "    <tr style=\"text-align: right;\">\n",
       "      <th></th>\n",
       "      <th>Nome</th>\n",
       "      <th>Idade</th>\n",
       "    </tr>\n",
       "  </thead>\n",
       "  <tbody>\n",
       "    <tr>\n",
       "      <th>0</th>\n",
       "      <td>Ana</td>\n",
       "      <td>25</td>\n",
       "    </tr>\n",
       "    <tr>\n",
       "      <th>3</th>\n",
       "      <td>Daniela</td>\n",
       "      <td>29</td>\n",
       "    </tr>\n",
       "    <tr>\n",
       "      <th>2</th>\n",
       "      <td>Beto</td>\n",
       "      <td>35</td>\n",
       "    </tr>\n",
       "    <tr>\n",
       "      <th>1</th>\n",
       "      <td>Carlos</td>\n",
       "      <td>40</td>\n",
       "    </tr>\n",
       "  </tbody>\n",
       "</table>\n",
       "</div>"
      ],
      "text/plain": [
       "      Nome  Idade\n",
       "0      Ana     25\n",
       "3  Daniela     29\n",
       "2     Beto     35\n",
       "1   Carlos     40"
      ]
     },
     "execution_count": 30,
     "metadata": {},
     "output_type": "execute_result"
    }
   ],
   "source": [
    "import pandas as pd\n",
    "\n",
    "df = pd.DataFrame({\n",
    "    'Nome': ['Ana', 'Carlos', 'Beto', 'Daniela'],\n",
    "    'Idade': [25, 40, 35, 29]\n",
    "})\n",
    "\n",
    "df_ordenado = df.sort_values(by = 'Idade')\n",
    "df_ordenado\n",
    "\n",
    "#BY --> COLUNA PARA SER ORDENADA"
   ]
  },
  {
   "cell_type": "code",
   "execution_count": 40,
   "id": "de24c315-018a-492c-8f14-04c5df2fd0d5",
   "metadata": {},
   "outputs": [
    {
     "data": {
      "text/html": [
       "<div>\n",
       "<style scoped>\n",
       "    .dataframe tbody tr th:only-of-type {\n",
       "        vertical-align: middle;\n",
       "    }\n",
       "\n",
       "    .dataframe tbody tr th {\n",
       "        vertical-align: top;\n",
       "    }\n",
       "\n",
       "    .dataframe thead th {\n",
       "        text-align: right;\n",
       "    }\n",
       "</style>\n",
       "<table border=\"1\" class=\"dataframe\">\n",
       "  <thead>\n",
       "    <tr style=\"text-align: right;\">\n",
       "      <th></th>\n",
       "      <th>A</th>\n",
       "    </tr>\n",
       "  </thead>\n",
       "  <tbody>\n",
       "    <tr>\n",
       "      <th>2</th>\n",
       "      <td>NaN</td>\n",
       "    </tr>\n",
       "    <tr>\n",
       "      <th>0</th>\n",
       "      <td>3.0</td>\n",
       "    </tr>\n",
       "    <tr>\n",
       "      <th>1</th>\n",
       "      <td>2.0</td>\n",
       "    </tr>\n",
       "    <tr>\n",
       "      <th>3</th>\n",
       "      <td>1.0</td>\n",
       "    </tr>\n",
       "  </tbody>\n",
       "</table>\n",
       "</div>"
      ],
      "text/plain": [
       "     A\n",
       "2  NaN\n",
       "0  3.0\n",
       "1  2.0\n",
       "3  1.0"
      ]
     },
     "execution_count": 40,
     "metadata": {},
     "output_type": "execute_result"
    }
   ],
   "source": [
    "df2 = pd.DataFrame({'A': [3, 2, None, 1]})\n",
    "df_ordenado2 = df2.sort_values(by='A', ascending=False, na_position='first')\n",
    "df_ordenado2\n",
    "\n",
    "#NA_POSITION --> coloca NaN no início"
   ]
  },
  {
   "cell_type": "markdown",
   "id": "2b145012-569b-4188-81f3-a29b56d2aa0a",
   "metadata": {},
   "source": [
    "# SORT_INDEX\n",
    "### O método sort_index() é usado para ordenar os dados com base no índice do DataFrame ou Series."
   ]
  },
  {
   "cell_type": "code",
   "execution_count": 48,
   "id": "b1639b49-cbb7-499d-8a6c-a33eca41203c",
   "metadata": {},
   "outputs": [
    {
     "data": {
      "text/html": [
       "<div>\n",
       "<style scoped>\n",
       "    .dataframe tbody tr th:only-of-type {\n",
       "        vertical-align: middle;\n",
       "    }\n",
       "\n",
       "    .dataframe tbody tr th {\n",
       "        vertical-align: top;\n",
       "    }\n",
       "\n",
       "    .dataframe thead th {\n",
       "        text-align: right;\n",
       "    }\n",
       "</style>\n",
       "<table border=\"1\" class=\"dataframe\">\n",
       "  <thead>\n",
       "    <tr style=\"text-align: right;\">\n",
       "      <th></th>\n",
       "      <th>A</th>\n",
       "    </tr>\n",
       "  </thead>\n",
       "  <tbody>\n",
       "    <tr>\n",
       "      <th>a</th>\n",
       "      <td>3</td>\n",
       "    </tr>\n",
       "    <tr>\n",
       "      <th>b</th>\n",
       "      <td>1</td>\n",
       "    </tr>\n",
       "    <tr>\n",
       "      <th>c</th>\n",
       "      <td>2</td>\n",
       "    </tr>\n",
       "  </tbody>\n",
       "</table>\n",
       "</div>"
      ],
      "text/plain": [
       "   A\n",
       "a  3\n",
       "b  1\n",
       "c  2"
      ]
     },
     "execution_count": 48,
     "metadata": {},
     "output_type": "execute_result"
    }
   ],
   "source": [
    "df = pd.DataFrame({'A': [1, 2, 3]}, index=['b', 'c', 'a'])\n",
    "\n",
    "df_sorted = df.sort_index()\n",
    "df_sorted\n",
    "\n",
    "#Ordenando um DataFrame pelo índice"
   ]
  },
  {
   "cell_type": "code",
   "execution_count": 52,
   "id": "0bbd23a0-a841-418a-a529-c7efe142ae1d",
   "metadata": {},
   "outputs": [
    {
     "data": {
      "text/html": [
       "<div>\n",
       "<style scoped>\n",
       "    .dataframe tbody tr th:only-of-type {\n",
       "        vertical-align: middle;\n",
       "    }\n",
       "\n",
       "    .dataframe tbody tr th {\n",
       "        vertical-align: top;\n",
       "    }\n",
       "\n",
       "    .dataframe thead th {\n",
       "        text-align: right;\n",
       "    }\n",
       "</style>\n",
       "<table border=\"1\" class=\"dataframe\">\n",
       "  <thead>\n",
       "    <tr style=\"text-align: right;\">\n",
       "      <th></th>\n",
       "      <th>A</th>\n",
       "    </tr>\n",
       "  </thead>\n",
       "  <tbody>\n",
       "    <tr>\n",
       "      <th>c</th>\n",
       "      <td>2</td>\n",
       "    </tr>\n",
       "    <tr>\n",
       "      <th>b</th>\n",
       "      <td>1</td>\n",
       "    </tr>\n",
       "    <tr>\n",
       "      <th>a</th>\n",
       "      <td>3</td>\n",
       "    </tr>\n",
       "  </tbody>\n",
       "</table>\n",
       "</div>"
      ],
      "text/plain": [
       "   A\n",
       "c  2\n",
       "b  1\n",
       "a  3"
      ]
     },
     "execution_count": 52,
     "metadata": {},
     "output_type": "execute_result"
    }
   ],
   "source": [
    "df_sorted = df.sort_index(ascending=False , inplace = False)\n",
    "df_sorted\n",
    "\n",
    "#Ordenando um DataFrame pelo índice (decrescente)"
   ]
  },
  {
   "cell_type": "markdown",
   "id": "140fcd0a-29d6-425f-9131-efa4d732b807",
   "metadata": {},
   "source": [
    "# VALUE_COUNTS\n",
    "### Contagem de valores em uma Series"
   ]
  },
  {
   "cell_type": "code",
   "execution_count": 57,
   "id": "cefa3b03-a067-419b-84f3-c3526e4ef86c",
   "metadata": {},
   "outputs": [
    {
     "data": {
      "text/plain": [
       "Categoria\n",
       "C    4\n",
       "A    3\n",
       "B    2\n",
       "Name: count, dtype: int64"
      ]
     },
     "execution_count": 57,
     "metadata": {},
     "output_type": "execute_result"
    }
   ],
   "source": [
    "df_x = pd.DataFrame({'Categoria': ['A', 'B', 'A', 'C', 'A', 'B', 'C', 'C', 'C']})\n",
    "\n",
    "contagem = df_x['Categoria'].value_counts()\n",
    "contagem\n",
    "\n"
   ]
  },
  {
   "cell_type": "code",
   "execution_count": 73,
   "id": "08932e4c-31ee-48a7-866b-1f31295bd2a9",
   "metadata": {},
   "outputs": [
    {
     "data": {
      "text/plain": [
       "Categoria\n",
       "C    0.444444\n",
       "A    0.333333\n",
       "B    0.222222\n",
       "Name: proportion, dtype: float64"
      ]
     },
     "execution_count": 73,
     "metadata": {},
     "output_type": "execute_result"
    }
   ],
   "source": [
    "df_x = pd.DataFrame({'Categoria': ['A', 'B', 'A', 'C', 'A', 'B', 'C', 'C', 'C']})\n",
    "\n",
    "contagem = df_x['Categoria'].value_counts(normalize = True , sort = True)\n",
    "contagem\n",
    "\n",
    "#NORMALIZE --> PASSA A PORCENTAGEM AO INVES DA QUNATIDADE \n",
    "#SORT --> Ordena por frequência OU quantidade \n",
    "#ascending --> True or False"
   ]
  },
  {
   "cell_type": "code",
   "execution_count": null,
   "id": "eb819c26-da2c-4ff6-9e76-9b6c0a148c78",
   "metadata": {},
   "outputs": [],
   "source": []
  }
 ],
 "metadata": {
  "kernelspec": {
   "display_name": "Python [conda env:base] *",
   "language": "python",
   "name": "conda-base-py"
  },
  "language_info": {
   "codemirror_mode": {
    "name": "ipython",
    "version": 3
   },
   "file_extension": ".py",
   "mimetype": "text/x-python",
   "name": "python",
   "nbconvert_exporter": "python",
   "pygments_lexer": "ipython3",
   "version": "3.12.7"
  }
 },
 "nbformat": 4,
 "nbformat_minor": 5
}
