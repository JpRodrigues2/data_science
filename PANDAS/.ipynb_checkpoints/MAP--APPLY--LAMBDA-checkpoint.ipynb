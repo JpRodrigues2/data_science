{
 "cells": [
  {
   "cell_type": "code",
   "execution_count": 166,
   "id": "493e13f3-bf6d-4bba-af81-44a932a97d5c",
   "metadata": {},
   "outputs": [],
   "source": [
    "import pandas as pd\n",
    "\n",
    "data = pd.read_csv('NYC_Jobs.csv')\n",
    "data.head()\n",
    "\n"
   ]
  },
  {
   "cell_type": "markdown",
   "id": "520e95e8-2e22-45bb-bd21-2fd5f1dfd0f6",
   "metadata": {},
   "source": [
    "# APPLY"
   ]
  },
  {
   "cell_type": "code",
   "execution_count": 169,
   "id": "a37609a7-a71a-4e8f-b572-60dee5ae5066",
   "metadata": {},
   "outputs": [
    {
     "data": {
      "text/plain": [
       "0                  Public health nurse\n",
       "1              Cert it developer (app)\n",
       "2             Executive agency counsel\n",
       "3       Certified it administrator (la\n",
       "4       Associate human rights special\n",
       "                     ...              \n",
       "3768    Certified it administrator (la\n",
       "3769     Associate housing development\n",
       "3770               Senior it architect\n",
       "3771                         Economist\n",
       "3772           Agency attorney interne\n",
       "Name: Civil Service Title, Length: 3773, dtype: object"
      ]
     },
     "execution_count": 169,
     "metadata": {},
     "output_type": "execute_result"
    }
   ],
   "source": [
    "def function(title):\n",
    "    return title.lower().capitalize()\n",
    "\n",
    "data['Civil Service Title'].apply(function)\n",
    "\n",
    "\n",
    "#data['Civil Service Title'] = data['Civil Service Title'].apply(function) --> altera o dataframe original\n"
   ]
  },
  {
   "cell_type": "markdown",
   "id": "21e32fc3-ce9a-4393-b6b1-e5cfe9e69b45",
   "metadata": {},
   "source": [
    "# APPLYMAP"
   ]
  },
  {
   "cell_type": "code",
   "execution_count": 172,
   "id": "c757f9da-bef9-46e3-b7cc-f6d701ee85d0",
   "metadata": {},
   "outputs": [
    {
     "name": "stderr",
     "output_type": "stream",
     "text": [
      "C:\\Users\\jprgs\\AppData\\Local\\Temp\\ipykernel_16020\\3491331402.py:4: FutureWarning: DataFrame.applymap has been deprecated. Use DataFrame.map instead.\n",
      "  mask1 = data.applymap(add_year)\n"
     ]
    },
    {
     "data": {
      "text/html": [
       "<div>\n",
       "<style scoped>\n",
       "    .dataframe tbody tr th:only-of-type {\n",
       "        vertical-align: middle;\n",
       "    }\n",
       "\n",
       "    .dataframe tbody tr th {\n",
       "        vertical-align: top;\n",
       "    }\n",
       "\n",
       "    .dataframe thead th {\n",
       "        text-align: right;\n",
       "    }\n",
       "</style>\n",
       "<table border=\"1\" class=\"dataframe\">\n",
       "  <thead>\n",
       "    <tr style=\"text-align: right;\">\n",
       "      <th></th>\n",
       "      <th>Job ID</th>\n",
       "      <th>Agency</th>\n",
       "      <th>Posting Type</th>\n",
       "      <th># Of Positions</th>\n",
       "      <th>Business Title</th>\n",
       "      <th>Civil Service Title</th>\n",
       "      <th>Title Classification</th>\n",
       "      <th>Title Code No</th>\n",
       "      <th>Level</th>\n",
       "      <th>Job Category</th>\n",
       "      <th>...</th>\n",
       "      <th>Additional Information</th>\n",
       "      <th>To Apply</th>\n",
       "      <th>Hours/Shift</th>\n",
       "      <th>Work Location 1</th>\n",
       "      <th>Recruitment Contact</th>\n",
       "      <th>Residency Requirement</th>\n",
       "      <th>Posting Date</th>\n",
       "      <th>Post Until</th>\n",
       "      <th>Posting Updated</th>\n",
       "      <th>Process Date</th>\n",
       "    </tr>\n",
       "  </thead>\n",
       "  <tbody>\n",
       "    <tr>\n",
       "      <th>0</th>\n",
       "      <td>424339_2022</td>\n",
       "      <td>DEPT OF HEALTH/MENTAL HYGIENE_2022</td>\n",
       "      <td>External_2022</td>\n",
       "      <td>1_2022</td>\n",
       "      <td>Triage Nurse, Bureau of Public Health Clinics_...</td>\n",
       "      <td>PUBLIC HEALTH NURSE_2022</td>\n",
       "      <td>Competitive-1_2022</td>\n",
       "      <td>51011_2022</td>\n",
       "      <td>03_2022</td>\n",
       "      <td>Health_2022</td>\n",
       "      <td>...</td>\n",
       "      <td>**IMPORTANT NOTES TO ALL CANDIDATES:   Please ...</td>\n",
       "      <td>Apply online with a cover letter to https://a1...</td>\n",
       "      <td>nan_2022</td>\n",
       "      <td>nan_2022</td>\n",
       "      <td>nan_2022</td>\n",
       "      <td>New York City Residency is not required for th...</td>\n",
       "      <td>03/01/2022_2022</td>\n",
       "      <td>nan_2022</td>\n",
       "      <td>04/05/2022_2022</td>\n",
       "      <td>04/12/2022_2022</td>\n",
       "    </tr>\n",
       "    <tr>\n",
       "      <th>1</th>\n",
       "      <td>379094_2022</td>\n",
       "      <td>NYC EMPLOYEES RETIREMENT SYS_2022</td>\n",
       "      <td>External_2022</td>\n",
       "      <td>1_2022</td>\n",
       "      <td>CERTIFIED IT DEVELOPER (APPLICATIONS)_2022</td>\n",
       "      <td>CERT IT DEVELOPER (APP)_2022</td>\n",
       "      <td>Competitive-1_2022</td>\n",
       "      <td>13643_2022</td>\n",
       "      <td>02_2022</td>\n",
       "      <td>Technology, Data &amp; Innovation_2022</td>\n",
       "      <td>...</td>\n",
       "      <td>nan_2022</td>\n",
       "      <td>TO APPLY FOR CONSIDERATION, PLEASE FORWARD A C...</td>\n",
       "      <td>nan_2022</td>\n",
       "      <td>nan_2022</td>\n",
       "      <td>nan_2022</td>\n",
       "      <td>New York City Residency is not required for th...</td>\n",
       "      <td>01/07/2019_2022</td>\n",
       "      <td>nan_2022</td>\n",
       "      <td>01/07/2019_2022</td>\n",
       "      <td>04/12/2022_2022</td>\n",
       "    </tr>\n",
       "    <tr>\n",
       "      <th>2</th>\n",
       "      <td>520417_2022</td>\n",
       "      <td>NYC HOUSING AUTHORITY_2022</td>\n",
       "      <td>External_2022</td>\n",
       "      <td>1_2022</td>\n",
       "      <td>Chief of Settlement_2022</td>\n",
       "      <td>EXECUTIVE AGENCY COUNSEL_2022</td>\n",
       "      <td>Non-Competitive-5_2022</td>\n",
       "      <td>95005_2022</td>\n",
       "      <td>M2_2022</td>\n",
       "      <td>Legal Affairs_2022</td>\n",
       "      <td>...</td>\n",
       "      <td>1.  Resume and cover letter must also include ...</td>\n",
       "      <td>Click the Apply Now button._2022</td>\n",
       "      <td>nan_2022</td>\n",
       "      <td>nan_2022</td>\n",
       "      <td>nan_2022</td>\n",
       "      <td>NYCHA has no residency requirements._2022</td>\n",
       "      <td>03/28/2022_2022</td>\n",
       "      <td>nan_2022</td>\n",
       "      <td>03/28/2022_2022</td>\n",
       "      <td>04/12/2022_2022</td>\n",
       "    </tr>\n",
       "  </tbody>\n",
       "</table>\n",
       "<p>3 rows × 30 columns</p>\n",
       "</div>"
      ],
      "text/plain": [
       "        Job ID                              Agency   Posting Type  \\\n",
       "0  424339_2022  DEPT OF HEALTH/MENTAL HYGIENE_2022  External_2022   \n",
       "1  379094_2022   NYC EMPLOYEES RETIREMENT SYS_2022  External_2022   \n",
       "2  520417_2022          NYC HOUSING AUTHORITY_2022  External_2022   \n",
       "\n",
       "  # Of Positions                                     Business Title  \\\n",
       "0         1_2022  Triage Nurse, Bureau of Public Health Clinics_...   \n",
       "1         1_2022         CERTIFIED IT DEVELOPER (APPLICATIONS)_2022   \n",
       "2         1_2022                           Chief of Settlement_2022   \n",
       "\n",
       "             Civil Service Title    Title Classification Title Code No  \\\n",
       "0       PUBLIC HEALTH NURSE_2022      Competitive-1_2022    51011_2022   \n",
       "1   CERT IT DEVELOPER (APP)_2022      Competitive-1_2022    13643_2022   \n",
       "2  EXECUTIVE AGENCY COUNSEL_2022  Non-Competitive-5_2022    95005_2022   \n",
       "\n",
       "     Level                        Job Category  ...  \\\n",
       "0  03_2022                         Health_2022  ...   \n",
       "1  02_2022  Technology, Data & Innovation_2022  ...   \n",
       "2  M2_2022                  Legal Affairs_2022  ...   \n",
       "\n",
       "                              Additional Information  \\\n",
       "0  **IMPORTANT NOTES TO ALL CANDIDATES:   Please ...   \n",
       "1                                           nan_2022   \n",
       "2  1.  Resume and cover letter must also include ...   \n",
       "\n",
       "                                            To Apply Hours/Shift  \\\n",
       "0  Apply online with a cover letter to https://a1...    nan_2022   \n",
       "1  TO APPLY FOR CONSIDERATION, PLEASE FORWARD A C...    nan_2022   \n",
       "2                   Click the Apply Now button._2022    nan_2022   \n",
       "\n",
       "  Work Location 1 Recruitment Contact  \\\n",
       "0        nan_2022            nan_2022   \n",
       "1        nan_2022            nan_2022   \n",
       "2        nan_2022            nan_2022   \n",
       "\n",
       "                               Residency Requirement     Posting Date  \\\n",
       "0  New York City Residency is not required for th...  03/01/2022_2022   \n",
       "1  New York City Residency is not required for th...  01/07/2019_2022   \n",
       "2          NYCHA has no residency requirements._2022  03/28/2022_2022   \n",
       "\n",
       "  Post Until  Posting Updated     Process Date  \n",
       "0   nan_2022  04/05/2022_2022  04/12/2022_2022  \n",
       "1   nan_2022  01/07/2019_2022  04/12/2022_2022  \n",
       "2   nan_2022  03/28/2022_2022  04/12/2022_2022  \n",
       "\n",
       "[3 rows x 30 columns]"
      ]
     },
     "execution_count": 172,
     "metadata": {},
     "output_type": "execute_result"
    }
   ],
   "source": [
    "def add_year(text):\n",
    "    return str(text) + '_2022'\n",
    "\n",
    "mask1 = data.applymap(add_year)\n",
    "mask1.head(3)"
   ]
  },
  {
   "cell_type": "code",
   "execution_count": null,
   "id": "a0a5e8c8-9fa7-49c7-bde8-dbf9442b6831",
   "metadata": {},
   "outputs": [],
   "source": []
  },
  {
   "cell_type": "markdown",
   "id": "852cd221-1dc4-48a6-9b64-64d3947e1631",
   "metadata": {},
   "source": [
    "# MAP"
   ]
  },
  {
   "cell_type": "code",
   "execution_count": 176,
   "id": "964eaae1-aec8-4e1f-aa36-ba8bfc520edd",
   "metadata": {},
   "outputs": [
    {
     "data": {
      "text/plain": [
       "0       cat\n",
       "1       dog\n",
       "2       NaN\n",
       "3    rabbit\n",
       "dtype: object"
      ]
     },
     "execution_count": 176,
     "metadata": {},
     "output_type": "execute_result"
    }
   ],
   "source": [
    "s = pd.Series(['cat','dog','NaN','rabbit'])\n",
    "s"
   ]
  },
  {
   "cell_type": "code",
   "execution_count": 178,
   "id": "31b60509-5930-480f-985a-0d503417e543",
   "metadata": {},
   "outputs": [
    {
     "data": {
      "text/plain": [
       "0    kitten\n",
       "1     puppy\n",
       "2       NaN\n",
       "3       NaN\n",
       "dtype: object"
      ]
     },
     "execution_count": 178,
     "metadata": {},
     "output_type": "execute_result"
    }
   ],
   "source": [
    "s.map({'cat':'kitten' , 'dog' : 'puppy'})"
   ]
  },
  {
   "cell_type": "code",
   "execution_count": 180,
   "id": "2e849729-22ec-4290-8a83-2a2f7b25fff2",
   "metadata": {},
   "outputs": [
    {
     "data": {
      "text/plain": [
       "0       TESTE OF HEALTH/MENTAL HYGIENE\n",
       "1         NYC EMPLOYEES RETIREMENT SYS\n",
       "2                NYC HOUSING AUTHORITY\n",
       "3         NYC EMPLOYEES RETIREMENT SYS\n",
       "4              HUMAN RIGHTS COMMISSION\n",
       "                     ...              \n",
       "3768      NYC EMPLOYEES RETIREMENT SYS\n",
       "3769    HOUSING PRESERVATION & DVLPMNT\n",
       "3770        FINANCIAL INFO SVCS AGENCY\n",
       "3771    TESTE OF HEALTH/MENTAL HYGIENE\n",
       "3772           HUMAN RIGHTS COMMISSION\n",
       "Name: Agency, Length: 3773, dtype: object"
      ]
     },
     "execution_count": 180,
     "metadata": {},
     "output_type": "execute_result"
    }
   ],
   "source": [
    "def change_word(title):\n",
    "    return title.replace('DEPT' , 'TESTE')\n",
    "\n",
    "data['Agency'].map(change_word)"
   ]
  },
  {
   "cell_type": "code",
   "execution_count": 182,
   "id": "1c9958dd-4455-4795-b65c-733e38575931",
   "metadata": {},
   "outputs": [
    {
     "data": {
      "text/plain": [
       "0        DEPT OF HEALTH/MENTAL HYGIENE\n",
       "1         NYC EMPLOYEES RETIREMENT SYS\n",
       "2                NYC HOUSING AUTHORITY\n",
       "3         NYC EMPLOYEES RETIREMENT SYS\n",
       "4              HUMAN RIGHTS COMMISSION\n",
       "                     ...              \n",
       "3768      NYC EMPLOYEES RETIREMENT SYS\n",
       "3769    HOUSING PRESERVATION & DVLPMNT\n",
       "3770        FINANCIAL INFO SVCS AGENCY\n",
       "3771     DEPT OF HEALTH/MENTAL HYGIENE\n",
       "3772           HUMAN RIGHTS COMMISSION\n",
       "Name: Agency, Length: 3773, dtype: object"
      ]
     },
     "execution_count": 182,
     "metadata": {},
     "output_type": "execute_result"
    }
   ],
   "source": [
    "data['Agency'].map(lambda x : x.upper())"
   ]
  },
  {
   "cell_type": "code",
   "execution_count": null,
   "id": "55efd7eb-1495-42aa-b209-e5650864c199",
   "metadata": {},
   "outputs": [],
   "source": []
  },
  {
   "cell_type": "code",
   "execution_count": null,
   "id": "f9a2a441-c457-4763-8903-714eed19d92d",
   "metadata": {},
   "outputs": [],
   "source": []
  },
  {
   "cell_type": "code",
   "execution_count": null,
   "id": "f2ef5470-f393-4c39-827a-2ba59e073681",
   "metadata": {},
   "outputs": [],
   "source": []
  },
  {
   "cell_type": "code",
   "execution_count": null,
   "id": "221f39ed-a77a-432a-8664-a6a06543948b",
   "metadata": {},
   "outputs": [],
   "source": []
  }
 ],
 "metadata": {
  "kernelspec": {
   "display_name": "Python [conda env:base] *",
   "language": "python",
   "name": "conda-base-py"
  },
  "language_info": {
   "codemirror_mode": {
    "name": "ipython",
    "version": 3
   },
   "file_extension": ".py",
   "mimetype": "text/x-python",
   "name": "python",
   "nbconvert_exporter": "python",
   "pygments_lexer": "ipython3",
   "version": "3.12.7"
  }
 },
 "nbformat": 4,
 "nbformat_minor": 5
}
