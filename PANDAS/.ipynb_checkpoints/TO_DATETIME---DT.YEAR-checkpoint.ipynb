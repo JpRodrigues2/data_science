{
 "cells": [
  {
   "cell_type": "code",
   "execution_count": 99,
   "id": "b1c83371-0851-433c-8450-a9699d87952b",
   "metadata": {},
   "outputs": [
    {
     "data": {
      "text/html": [
       "<div>\n",
       "<style scoped>\n",
       "    .dataframe tbody tr th:only-of-type {\n",
       "        vertical-align: middle;\n",
       "    }\n",
       "\n",
       "    .dataframe tbody tr th {\n",
       "        vertical-align: top;\n",
       "    }\n",
       "\n",
       "    .dataframe thead th {\n",
       "        text-align: right;\n",
       "    }\n",
       "</style>\n",
       "<table border=\"1\" class=\"dataframe\">\n",
       "  <thead>\n",
       "    <tr style=\"text-align: right;\">\n",
       "      <th></th>\n",
       "      <th>data</th>\n",
       "    </tr>\n",
       "  </thead>\n",
       "  <tbody>\n",
       "    <tr>\n",
       "      <th>0</th>\n",
       "      <td>2025-03-19</td>\n",
       "    </tr>\n",
       "    <tr>\n",
       "      <th>1</th>\n",
       "      <td>2025-03-20</td>\n",
       "    </tr>\n",
       "    <tr>\n",
       "      <th>2</th>\n",
       "      <td>2025-03-21</td>\n",
       "    </tr>\n",
       "    <tr>\n",
       "      <th>3</th>\n",
       "      <td>joao</td>\n",
       "    </tr>\n",
       "  </tbody>\n",
       "</table>\n",
       "</div>"
      ],
      "text/plain": [
       "         data\n",
       "0  2025-03-19\n",
       "1  2025-03-20\n",
       "2  2025-03-21\n",
       "3        joao"
      ]
     },
     "metadata": {},
     "output_type": "display_data"
    }
   ],
   "source": [
    "import pandas as pd\n",
    "\n",
    "datas = {'data' : ['2025-03-19', '2025-03-20', '2025-03-21','joao']}\n",
    "\n",
    "# Convertendo para datetime\n",
    "df = pd.DataFrame(datas)\n",
    "\n",
    "display(df)\n"
   ]
  },
  {
   "cell_type": "markdown",
   "id": "ce9535b6-023c-40d8-8853-f01248af897c",
   "metadata": {},
   "source": [
    "# TO_DATETIME\n",
    "### pd.to_datetime(arg, format=\"%d/%m/%Y\", errors='raise', dayfirst=False)\n"
   ]
  },
  {
   "cell_type": "markdown",
   "id": "2d689127-acba-480d-aef8-f2df20c61654",
   "metadata": {},
   "source": [
    "### errors: Como lidar com erros de conversão. Valores possíveis: \n",
    "### 'raise' (default): Lança erro se não puder converter.\n",
    "### 'coerce': Converte para NaT (Not a Time) quando houver erro.\n",
    "### 'ignore': Não faz nada em caso de erro."
   ]
  },
  {
   "cell_type": "code",
   "execution_count": 119,
   "id": "20fca280-c593-4ec8-9ed8-ff7dba68b6b0",
   "metadata": {},
   "outputs": [
    {
     "data": {
      "text/html": [
       "<div>\n",
       "<style scoped>\n",
       "    .dataframe tbody tr th:only-of-type {\n",
       "        vertical-align: middle;\n",
       "    }\n",
       "\n",
       "    .dataframe tbody tr th {\n",
       "        vertical-align: top;\n",
       "    }\n",
       "\n",
       "    .dataframe thead th {\n",
       "        text-align: right;\n",
       "    }\n",
       "</style>\n",
       "<table border=\"1\" class=\"dataframe\">\n",
       "  <thead>\n",
       "    <tr style=\"text-align: right;\">\n",
       "      <th></th>\n",
       "      <th>data</th>\n",
       "    </tr>\n",
       "  </thead>\n",
       "  <tbody>\n",
       "    <tr>\n",
       "      <th>0</th>\n",
       "      <td>2025-03-19</td>\n",
       "    </tr>\n",
       "    <tr>\n",
       "      <th>1</th>\n",
       "      <td>2025-03-20</td>\n",
       "    </tr>\n",
       "    <tr>\n",
       "      <th>2</th>\n",
       "      <td>2025-03-21</td>\n",
       "    </tr>\n",
       "    <tr>\n",
       "      <th>3</th>\n",
       "      <td>NaT</td>\n",
       "    </tr>\n",
       "  </tbody>\n",
       "</table>\n",
       "</div>"
      ],
      "text/plain": [
       "        data\n",
       "0 2025-03-19\n",
       "1 2025-03-20\n",
       "2 2025-03-21\n",
       "3        NaT"
      ]
     },
     "execution_count": 119,
     "metadata": {},
     "output_type": "execute_result"
    }
   ],
   "source": [
    "df['data'] = pd.to_datetime(df['data'], errors = 'coerce')\n",
    "df"
   ]
  },
  {
   "cell_type": "markdown",
   "id": "cb6993a5-53f6-4d23-a5fa-1a6f8ec13541",
   "metadata": {},
   "source": [
    "# .DT.YEAR / month / day"
   ]
  },
  {
   "cell_type": "code",
   "execution_count": 133,
   "id": "6bbb8773-1514-40f5-abd3-91eed584ca07",
   "metadata": {},
   "outputs": [
    {
     "data": {
      "text/plain": [
       "0    19.0\n",
       "1    20.0\n",
       "2    21.0\n",
       "3     NaN\n",
       "Name: data, dtype: float64"
      ]
     },
     "execution_count": 133,
     "metadata": {},
     "output_type": "execute_result"
    }
   ],
   "source": [
    "df['data'].dt.day\n",
    "\n",
    "# extrai o ano/mes/dia "
   ]
  },
  {
   "cell_type": "code",
   "execution_count": null,
   "id": "5d2bdf9d-f819-430d-bcd1-3df2250b2bde",
   "metadata": {},
   "outputs": [],
   "source": []
  },
  {
   "cell_type": "code",
   "execution_count": null,
   "id": "f368cc40-3f1e-4ad0-a6e8-e588589df17e",
   "metadata": {},
   "outputs": [],
   "source": []
  }
 ],
 "metadata": {
  "kernelspec": {
   "display_name": "Python [conda env:base] *",
   "language": "python",
   "name": "conda-base-py"
  },
  "language_info": {
   "codemirror_mode": {
    "name": "ipython",
    "version": 3
   },
   "file_extension": ".py",
   "mimetype": "text/x-python",
   "name": "python",
   "nbconvert_exporter": "python",
   "pygments_lexer": "ipython3",
   "version": "3.12.7"
  }
 },
 "nbformat": 4,
 "nbformat_minor": 5
}
