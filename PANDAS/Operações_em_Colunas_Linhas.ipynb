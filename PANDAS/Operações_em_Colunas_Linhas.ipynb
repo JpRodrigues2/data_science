{
 "cells": [
  {
   "cell_type": "code",
   "execution_count": 67,
   "id": "9a0be681-5905-4547-942c-e0bbc5cf7ba1",
   "metadata": {},
   "outputs": [
    {
     "data": {
      "text/html": [
       "<div>\n",
       "<style scoped>\n",
       "    .dataframe tbody tr th:only-of-type {\n",
       "        vertical-align: middle;\n",
       "    }\n",
       "\n",
       "    .dataframe tbody tr th {\n",
       "        vertical-align: top;\n",
       "    }\n",
       "\n",
       "    .dataframe thead th {\n",
       "        text-align: right;\n",
       "    }\n",
       "</style>\n",
       "<table border=\"1\" class=\"dataframe\">\n",
       "  <thead>\n",
       "    <tr style=\"text-align: right;\">\n",
       "      <th></th>\n",
       "      <th>A</th>\n",
       "      <th>B</th>\n",
       "    </tr>\n",
       "  </thead>\n",
       "  <tbody>\n",
       "    <tr>\n",
       "      <th>0</th>\n",
       "      <td>1</td>\n",
       "      <td>4</td>\n",
       "    </tr>\n",
       "    <tr>\n",
       "      <th>1</th>\n",
       "      <td>2</td>\n",
       "      <td>5</td>\n",
       "    </tr>\n",
       "    <tr>\n",
       "      <th>2</th>\n",
       "      <td>3</td>\n",
       "      <td>6</td>\n",
       "    </tr>\n",
       "  </tbody>\n",
       "</table>\n",
       "</div>"
      ],
      "text/plain": [
       "   A  B\n",
       "0  1  4\n",
       "1  2  5\n",
       "2  3  6"
      ]
     },
     "execution_count": 67,
     "metadata": {},
     "output_type": "execute_result"
    }
   ],
   "source": [
    "import pandas as pd\n",
    "import numpy as np\n",
    "\n",
    "df = pd.DataFrame({\n",
    "    'A': [1, 2, 3],\n",
    "    'B': [4, 5, 6]\n",
    "})\n",
    "\n",
    "df"
   ]
  },
  {
   "cell_type": "markdown",
   "id": "9ce28929-a4cd-453d-9b30-aacb270e362f",
   "metadata": {},
   "source": [
    "# SUM( )\n",
    "### Retorna a soma dos valores das linhas ou colunas do dataframe\n"
   ]
  },
  {
   "cell_type": "code",
   "execution_count": 69,
   "id": "4e382254-cc5b-494c-8928-2b5c2acd834e",
   "metadata": {},
   "outputs": [],
   "source": [
    "# axis=0: Soma ao longo das colunas (default).\n",
    "# axis=1: Soma ao longo das linhas.\n",
    "# skipna=True: Ignora valores NaN ao calcular a soma (default).\n",
    "# numeric_only: Se True, inclui apenas colunas numéricas.\n"
   ]
  },
  {
   "cell_type": "code",
   "execution_count": 91,
   "id": "28bc0f22-40bb-4412-9968-dcd9aae3a55f",
   "metadata": {},
   "outputs": [
    {
     "data": {
      "text/html": [
       "<div>\n",
       "<style scoped>\n",
       "    .dataframe tbody tr th:only-of-type {\n",
       "        vertical-align: middle;\n",
       "    }\n",
       "\n",
       "    .dataframe tbody tr th {\n",
       "        vertical-align: top;\n",
       "    }\n",
       "\n",
       "    .dataframe thead th {\n",
       "        text-align: right;\n",
       "    }\n",
       "</style>\n",
       "<table border=\"1\" class=\"dataframe\">\n",
       "  <thead>\n",
       "    <tr style=\"text-align: right;\">\n",
       "      <th></th>\n",
       "      <th>A</th>\n",
       "      <th>B</th>\n",
       "      <th>extra</th>\n",
       "    </tr>\n",
       "  </thead>\n",
       "  <tbody>\n",
       "    <tr>\n",
       "      <th>0</th>\n",
       "      <td>1</td>\n",
       "      <td>4</td>\n",
       "      <td>NaN</td>\n",
       "    </tr>\n",
       "    <tr>\n",
       "      <th>1</th>\n",
       "      <td>2</td>\n",
       "      <td>5</td>\n",
       "      <td>NaN</td>\n",
       "    </tr>\n",
       "    <tr>\n",
       "      <th>2</th>\n",
       "      <td>3</td>\n",
       "      <td>6</td>\n",
       "      <td>NaN</td>\n",
       "    </tr>\n",
       "  </tbody>\n",
       "</table>\n",
       "</div>"
      ],
      "text/plain": [
       "   A  B  extra\n",
       "0  1  4    NaN\n",
       "1  2  5    NaN\n",
       "2  3  6    NaN"
      ]
     },
     "execution_count": 91,
     "metadata": {},
     "output_type": "execute_result"
    }
   ],
   "source": [
    "df['extra'] = [np.nan] *3\n",
    "df"
   ]
  },
  {
   "cell_type": "code",
   "execution_count": 89,
   "id": "87e97ead-5c49-4097-a349-d7b3f5d86c28",
   "metadata": {},
   "outputs": [
    {
     "data": {
      "text/plain": [
       "A         6.0\n",
       "B        15.0\n",
       "extra     0.0\n",
       "dtype: float64"
      ]
     },
     "execution_count": 89,
     "metadata": {},
     "output_type": "execute_result"
    }
   ],
   "source": [
    "df.sum()"
   ]
  },
  {
   "cell_type": "code",
   "execution_count": 57,
   "id": "6d29c8e1-1aa7-4728-885c-c5ea05d1110a",
   "metadata": {},
   "outputs": [
    {
     "data": {
      "text/plain": [
       "0    5.0\n",
       "1    7.0\n",
       "2    9.0\n",
       "dtype: float64"
      ]
     },
     "execution_count": 57,
     "metadata": {},
     "output_type": "execute_result"
    }
   ],
   "source": [
    "df.sum(axis = 1) #SOMA DAS lINHAS"
   ]
  },
  {
   "cell_type": "markdown",
   "id": "c3f17de7-633c-4cc8-8a60-4f2653f00a74",
   "metadata": {},
   "source": [
    "# MEAN ( )\n",
    "### Retorna a média dos valores das linhas ou colunas do dataframe"
   ]
  },
  {
   "cell_type": "code",
   "execution_count": 73,
   "id": "0c483796-62e3-45e8-b3af-3db69a3d7554",
   "metadata": {},
   "outputs": [
    {
     "data": {
      "text/plain": [
       "A    2.0\n",
       "B    5.0\n",
       "dtype: float64"
      ]
     },
     "execution_count": 73,
     "metadata": {},
     "output_type": "execute_result"
    }
   ],
   "source": [
    "df.mean(axis=0, skipna=True, numeric_only=None)\n"
   ]
  },
  {
   "cell_type": "markdown",
   "id": "0452342e-b355-4883-9b39-c3c605d26e7e",
   "metadata": {},
   "source": [
    "# MIN( )\n",
    "### Retorna o valor mínimo das linhas ou colunas do dataframe"
   ]
  },
  {
   "cell_type": "code",
   "execution_count": 78,
   "id": "f538a3c8-683e-4051-8645-15f1fe0fd860",
   "metadata": {},
   "outputs": [
    {
     "data": {
      "text/plain": [
       "A    1\n",
       "B    4\n",
       "dtype: int64"
      ]
     },
     "execution_count": 78,
     "metadata": {},
     "output_type": "execute_result"
    }
   ],
   "source": [
    "df.min(axis = 0) #Coluna"
   ]
  },
  {
   "cell_type": "code",
   "execution_count": 82,
   "id": "f91b65dd-2cc2-4f5d-9ad0-47f37572c763",
   "metadata": {},
   "outputs": [
    {
     "data": {
      "text/plain": [
       "0    1.0\n",
       "1    2.0\n",
       "2    3.0\n",
       "dtype: float64"
      ]
     },
     "execution_count": 82,
     "metadata": {},
     "output_type": "execute_result"
    }
   ],
   "source": [
    "df.min(axis = 1) #Linha"
   ]
  },
  {
   "cell_type": "markdown",
   "id": "9cdcd4bf-5af2-4528-a6c7-218be81de8a3",
   "metadata": {},
   "source": [
    "# Max( )\n",
    "### Retorna o valor máximo das linhas ou colunas do dataframe"
   ]
  },
  {
   "cell_type": "code",
   "execution_count": 103,
   "id": "6479cfc5-c33c-40cd-92e3-32e09860752d",
   "metadata": {},
   "outputs": [
    {
     "data": {
      "text/plain": [
       "A        3.0\n",
       "B        6.0\n",
       "extra    NaN\n",
       "dtype: float64"
      ]
     },
     "execution_count": 103,
     "metadata": {},
     "output_type": "execute_result"
    }
   ],
   "source": [
    "df.max(axis = 0) #Coluna\n"
   ]
  },
  {
   "cell_type": "code",
   "execution_count": 105,
   "id": "bedc8bbb-774d-4716-9d86-696548ab1f15",
   "metadata": {},
   "outputs": [
    {
     "data": {
      "text/plain": [
       "0    4.0\n",
       "1    5.0\n",
       "2    6.0\n",
       "dtype: float64"
      ]
     },
     "execution_count": 105,
     "metadata": {},
     "output_type": "execute_result"
    }
   ],
   "source": [
    "df.max(axis = 1) #linha"
   ]
  },
  {
   "cell_type": "markdown",
   "id": "e92c9ebf-3ed2-4fd6-8c8f-a7758052f01b",
   "metadata": {},
   "source": [
    "# std(): Desvio padrão\n",
    "### Calcula o desvio padrão dos valores."
   ]
  },
  {
   "cell_type": "code",
   "execution_count": 108,
   "id": "6f6a580b-3e6d-4efc-ac63-8b2a6bc6fbe3",
   "metadata": {},
   "outputs": [
    {
     "data": {
      "text/plain": [
       "A        1.0\n",
       "B        1.0\n",
       "extra    NaN\n",
       "dtype: float64"
      ]
     },
     "execution_count": 108,
     "metadata": {},
     "output_type": "execute_result"
    }
   ],
   "source": [
    "df.std(axis=0, ddof=1)\n",
    "\n",
    "#   DDOF --> Grau de liberdade (usado para amostras)"
   ]
  },
  {
   "cell_type": "code",
   "execution_count": 110,
   "id": "66dce45f-0226-4199-8719-befe0dd45286",
   "metadata": {},
   "outputs": [
    {
     "data": {
      "text/plain": [
       "0    2.12132\n",
       "1    2.12132\n",
       "2    2.12132\n",
       "dtype: float64"
      ]
     },
     "execution_count": 110,
     "metadata": {},
     "output_type": "execute_result"
    }
   ],
   "source": [
    "df.std(axis=1, ddof=1)\n"
   ]
  },
  {
   "cell_type": "markdown",
   "id": "5d47e362-7252-41e8-83eb-33e592d31616",
   "metadata": {},
   "source": [
    "# count( ): Contagem de valores não nulos\n",
    "### Retorna o número de valores não nulos em cada coluna ou linha."
   ]
  },
  {
   "cell_type": "code",
   "execution_count": 113,
   "id": "40574780-10b4-41cb-998a-c38a90957bb0",
   "metadata": {},
   "outputs": [
    {
     "data": {
      "text/plain": [
       "A        3\n",
       "B        3\n",
       "extra    0\n",
       "dtype: int64"
      ]
     },
     "execution_count": 113,
     "metadata": {},
     "output_type": "execute_result"
    }
   ],
   "source": [
    "df.count(axis=0)\n"
   ]
  },
  {
   "cell_type": "code",
   "execution_count": null,
   "id": "061f8dcf-822d-45d0-a4fc-29fa698d4469",
   "metadata": {},
   "outputs": [],
   "source": []
  }
 ],
 "metadata": {
  "kernelspec": {
   "display_name": "Python [conda env:base] *",
   "language": "python",
   "name": "conda-base-py"
  },
  "language_info": {
   "codemirror_mode": {
    "name": "ipython",
    "version": 3
   },
   "file_extension": ".py",
   "mimetype": "text/x-python",
   "name": "python",
   "nbconvert_exporter": "python",
   "pygments_lexer": "ipython3",
   "version": "3.12.7"
  }
 },
 "nbformat": 4,
 "nbformat_minor": 5
}
