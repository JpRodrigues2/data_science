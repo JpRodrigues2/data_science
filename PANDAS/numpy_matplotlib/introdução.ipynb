{
 "cells": [
  {
   "cell_type": "code",
   "execution_count": null,
   "id": "50d42909-99f9-4ab8-bfec-e371085d9cde",
   "metadata": {},
   "outputs": [],
   "source": [
    "import matplotlib.pyplot as plt\n",
    "import numpy as np\n",
    "\n",
    "t = np.linspace(0,2*np.pi,100) #gera um intervalo de tempo, perfeitamente espaçado\n",
    "y = np.cos(4*t) #função cosseno\n",
    "y1 = np.sin(4*t)\n",
    "\n",
    "plt.figure('Cosseno', figsize= (5,4)) #figsize altera o tamanho / nrows e ncols\n",
    "plt.plot(t,y) #gera um gráfico\n",
    "plt.title('Gráfico Cosseno')\n",
    "plt.xlabel('Tempo (s)') #Nomeia o eixo X\n",
    "plt.ylabel('Amplitude') #Nomeia o eixo Y\n",
    "\n",
    "\n",
    "plt.figure('Seno')\n",
    "plt.plot(t,y1) #gera um gráfico\n",
    "plt.title('Gráfico Seno')\n",
    "plt.xlabel('Tempo (s)') #Nomeia o eixo X\n",
    "plt.ylabel('Amplitude') #Nomeia o eixo Y\n",
    "plt.show #mostra o gráfico\n",
    "\n",
    "\n",
    "p = np.linspace(-np.pi,np.pi,100)\n",
    "plt.figure('Gráfico 3')\n",
    "plt.plot(p,y)\n",
    "plt.plot(p,y1)\n",
    "plt.grid()  #adiciona quadriculado no gráfico"
   ]
  }
 ],
 "metadata": {
  "kernelspec": {
   "display_name": "Python [conda env:base] *",
   "language": "python",
   "name": "conda-base-py"
  },
  "language_info": {
   "codemirror_mode": {
    "name": "ipython",
    "version": 3
   },
   "file_extension": ".py",
   "mimetype": "text/x-python",
   "name": "python",
   "nbconvert_exporter": "python",
   "pygments_lexer": "ipython3",
   "version": "3.12.7"
  }
 },
 "nbformat": 4,
 "nbformat_minor": 5
}
