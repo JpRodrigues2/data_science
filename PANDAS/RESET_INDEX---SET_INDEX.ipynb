{
 "cells": [
  {
   "cell_type": "markdown",
   "id": "f50fac59-a5f6-48ce-9dcf-7fedc23c15f3",
   "metadata": {},
   "source": [
    "# SET_INDEX"
   ]
  },
  {
   "cell_type": "code",
   "execution_count": 41,
   "id": "fb312d57-83d0-4ba7-87b1-7456408b23e3",
   "metadata": {},
   "outputs": [
    {
     "name": "stdout",
     "output_type": "stream",
     "text": [
      "DataFrame original:\n"
     ]
    },
    {
     "data": {
      "text/html": [
       "<div>\n",
       "<style scoped>\n",
       "    .dataframe tbody tr th:only-of-type {\n",
       "        vertical-align: middle;\n",
       "    }\n",
       "\n",
       "    .dataframe tbody tr th {\n",
       "        vertical-align: top;\n",
       "    }\n",
       "\n",
       "    .dataframe thead th {\n",
       "        text-align: right;\n",
       "    }\n",
       "</style>\n",
       "<table border=\"1\" class=\"dataframe\">\n",
       "  <thead>\n",
       "    <tr style=\"text-align: right;\">\n",
       "      <th></th>\n",
       "      <th>ID</th>\n",
       "      <th>Nome</th>\n",
       "      <th>Idade</th>\n",
       "    </tr>\n",
       "  </thead>\n",
       "  <tbody>\n",
       "    <tr>\n",
       "      <th>0</th>\n",
       "      <td>101</td>\n",
       "      <td>Ana</td>\n",
       "      <td>25</td>\n",
       "    </tr>\n",
       "    <tr>\n",
       "      <th>1</th>\n",
       "      <td>102</td>\n",
       "      <td>Bruno</td>\n",
       "      <td>30</td>\n",
       "    </tr>\n",
       "    <tr>\n",
       "      <th>2</th>\n",
       "      <td>103</td>\n",
       "      <td>Carlos</td>\n",
       "      <td>22</td>\n",
       "    </tr>\n",
       "  </tbody>\n",
       "</table>\n",
       "</div>"
      ],
      "text/plain": [
       "    ID    Nome  Idade\n",
       "0  101     Ana     25\n",
       "1  102   Bruno     30\n",
       "2  103  Carlos     22"
      ]
     },
     "metadata": {},
     "output_type": "display_data"
    },
    {
     "name": "stdout",
     "output_type": "stream",
     "text": [
      "\n",
      "DataFrame com 'ID' como índice:\n"
     ]
    },
    {
     "data": {
      "text/html": [
       "<div>\n",
       "<style scoped>\n",
       "    .dataframe tbody tr th:only-of-type {\n",
       "        vertical-align: middle;\n",
       "    }\n",
       "\n",
       "    .dataframe tbody tr th {\n",
       "        vertical-align: top;\n",
       "    }\n",
       "\n",
       "    .dataframe thead th {\n",
       "        text-align: right;\n",
       "    }\n",
       "</style>\n",
       "<table border=\"1\" class=\"dataframe\">\n",
       "  <thead>\n",
       "    <tr style=\"text-align: right;\">\n",
       "      <th></th>\n",
       "      <th>Nome</th>\n",
       "      <th>Idade</th>\n",
       "    </tr>\n",
       "    <tr>\n",
       "      <th>ID</th>\n",
       "      <th></th>\n",
       "      <th></th>\n",
       "    </tr>\n",
       "  </thead>\n",
       "  <tbody>\n",
       "    <tr>\n",
       "      <th>101</th>\n",
       "      <td>Ana</td>\n",
       "      <td>25</td>\n",
       "    </tr>\n",
       "    <tr>\n",
       "      <th>102</th>\n",
       "      <td>Bruno</td>\n",
       "      <td>30</td>\n",
       "    </tr>\n",
       "    <tr>\n",
       "      <th>103</th>\n",
       "      <td>Carlos</td>\n",
       "      <td>22</td>\n",
       "    </tr>\n",
       "  </tbody>\n",
       "</table>\n",
       "</div>"
      ],
      "text/plain": [
       "       Nome  Idade\n",
       "ID                \n",
       "101     Ana     25\n",
       "102   Bruno     30\n",
       "103  Carlos     22"
      ]
     },
     "metadata": {},
     "output_type": "display_data"
    }
   ],
   "source": [
    "import pandas as pd\n",
    "\n",
    "\n",
    "df = pd.DataFrame({\n",
    "    'ID': [101, 102, 103],\n",
    "    'Nome': ['Ana', 'Bruno', 'Carlos'],\n",
    "    'Idade': [25, 30, 22]\n",
    "})\n",
    "\n",
    "print(\"DataFrame original:\")\n",
    "display(df)\n",
    "\n",
    "\n",
    "df_indexed = df.set_index('ID')\n",
    "print(\"\\nDataFrame com 'ID' como índice:\")\n",
    "display(df_indexed)\n",
    "\n",
    "\n",
    "# keys: Nome(s) da(s) coluna(s) a serem usadas como índice.\n",
    "# drop=True: Remove a coluna original do DataFrame (se False, mantém a coluna original).\n",
    "# append=False: Se True, adiciona o novo índice sem remover o atual.\n",
    "# inplace=False: Se True, altera o DataFrame original sem precisar reatribuir."
   ]
  },
  {
   "cell_type": "code",
   "execution_count": 43,
   "id": "b1b999b4-265c-43a3-b805-e452ef0b0faa",
   "metadata": {},
   "outputs": [
    {
     "data": {
      "text/html": [
       "<div>\n",
       "<style scoped>\n",
       "    .dataframe tbody tr th:only-of-type {\n",
       "        vertical-align: middle;\n",
       "    }\n",
       "\n",
       "    .dataframe tbody tr th {\n",
       "        vertical-align: top;\n",
       "    }\n",
       "\n",
       "    .dataframe thead th {\n",
       "        text-align: right;\n",
       "    }\n",
       "</style>\n",
       "<table border=\"1\" class=\"dataframe\">\n",
       "  <thead>\n",
       "    <tr style=\"text-align: right;\">\n",
       "      <th></th>\n",
       "      <th></th>\n",
       "      <th>Idade</th>\n",
       "    </tr>\n",
       "    <tr>\n",
       "      <th>ID</th>\n",
       "      <th>Nome</th>\n",
       "      <th></th>\n",
       "    </tr>\n",
       "  </thead>\n",
       "  <tbody>\n",
       "    <tr>\n",
       "      <th>101</th>\n",
       "      <th>Ana</th>\n",
       "      <td>25</td>\n",
       "    </tr>\n",
       "    <tr>\n",
       "      <th>102</th>\n",
       "      <th>Bruno</th>\n",
       "      <td>30</td>\n",
       "    </tr>\n",
       "    <tr>\n",
       "      <th>103</th>\n",
       "      <th>Carlos</th>\n",
       "      <td>22</td>\n",
       "    </tr>\n",
       "  </tbody>\n",
       "</table>\n",
       "</div>"
      ],
      "text/plain": [
       "            Idade\n",
       "ID  Nome         \n",
       "101 Ana        25\n",
       "102 Bruno      30\n",
       "103 Carlos     22"
      ]
     },
     "metadata": {},
     "output_type": "display_data"
    }
   ],
   "source": [
    "df_multi = df.set_index(['ID', 'Nome'])\n",
    "display(df_multi)"
   ]
  },
  {
   "cell_type": "markdown",
   "id": "d8c6bc00-41c2-43cf-bde1-0efa27b71d2c",
   "metadata": {},
   "source": [
    "# RESET_INDEX"
   ]
  },
  {
   "cell_type": "code",
   "execution_count": 37,
   "id": "cc6f2ddd-f2af-4b55-a15b-4ce53c295317",
   "metadata": {},
   "outputs": [
    {
     "name": "stdout",
     "output_type": "stream",
     "text": [
      "\n",
      "DataFrame após reset_index():\n",
      "    ID    Nome  Idade\n",
      "0  101     Ana     25\n",
      "1  102   Bruno     30\n",
      "2  103  Carlos     22\n"
     ]
    }
   ],
   "source": [
    "\n",
    "df_reset = df_indexed.reset_index(drop = False)\n",
    "\n",
    "print(\"\\nDataFrame após reset_index():\")\n",
    "print(df_reset)\n",
    "\n",
    "# DROP --> FALSE : devolve o indice ao dataframe como uma coluna , TRUE : joga a coluna (ex indice) fora"
   ]
  },
  {
   "cell_type": "code",
   "execution_count": null,
   "id": "95c60c36-4467-4c10-afa3-745f79941453",
   "metadata": {},
   "outputs": [],
   "source": []
  }
 ],
 "metadata": {
  "kernelspec": {
   "display_name": "Python [conda env:base] *",
   "language": "python",
   "name": "conda-base-py"
  },
  "language_info": {
   "codemirror_mode": {
    "name": "ipython",
    "version": 3
   },
   "file_extension": ".py",
   "mimetype": "text/x-python",
   "name": "python",
   "nbconvert_exporter": "python",
   "pygments_lexer": "ipython3",
   "version": "3.12.7"
  }
 },
 "nbformat": 4,
 "nbformat_minor": 5
}
