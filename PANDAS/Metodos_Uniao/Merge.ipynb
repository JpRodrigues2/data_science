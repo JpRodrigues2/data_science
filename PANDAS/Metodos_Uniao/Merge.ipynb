{
 "cells": [
  {
   "cell_type": "code",
   "execution_count": 77,
   "id": "1e344dd6-a5c3-4af3-a3c0-1c504b965123",
   "metadata": {},
   "outputs": [],
   "source": [
    "import pandas as pd"
   ]
  },
  {
   "cell_type": "code",
   "execution_count": 79,
   "id": "bf652901-9e07-4d7f-a2a3-4628df65274a",
   "metadata": {},
   "outputs": [],
   "source": [
    "df1 = pd.DataFrame({'ticker' : ['petr4','vale3','itub4'] , 'setor' : ['óleo e gás', 'mineração', 'financeiro']})\n",
    "df2 = pd.DataFrame({'ticker' : ['vale3','itub4','goll4'] , 'tendencia' : ['alta', 'baixa' ,'consolidação']})"
   ]
  },
  {
   "cell_type": "code",
   "execution_count": 81,
   "id": "a0e36d2c-6357-4918-bbdc-b1190e5d203f",
   "metadata": {},
   "outputs": [
    {
     "data": {
      "text/plain": [
       "(  ticker       setor\n",
       " 0  petr4  óleo e gás\n",
       " 1  vale3   mineração\n",
       " 2  itub4  financeiro,\n",
       "   ticker     tendencia\n",
       " 0  vale3          alta\n",
       " 1  itub4         baixa\n",
       " 2  goll4  consolidação)"
      ]
     },
     "execution_count": 81,
     "metadata": {},
     "output_type": "execute_result"
    }
   ],
   "source": [
    "df1, df2"
   ]
  },
  {
   "cell_type": "markdown",
   "id": "c935155e-c530-4d0e-bb76-f60a4cca2f60",
   "metadata": {},
   "source": [
    "### HOW = 'INNER' / ON = ' '"
   ]
  },
  {
   "cell_type": "code",
   "execution_count": 83,
   "id": "34917769-1a7c-49a5-8b9e-a9600be0a3fc",
   "metadata": {},
   "outputs": [
    {
     "data": {
      "text/html": [
       "<div>\n",
       "<style scoped>\n",
       "    .dataframe tbody tr th:only-of-type {\n",
       "        vertical-align: middle;\n",
       "    }\n",
       "\n",
       "    .dataframe tbody tr th {\n",
       "        vertical-align: top;\n",
       "    }\n",
       "\n",
       "    .dataframe thead th {\n",
       "        text-align: right;\n",
       "    }\n",
       "</style>\n",
       "<table border=\"1\" class=\"dataframe\">\n",
       "  <thead>\n",
       "    <tr style=\"text-align: right;\">\n",
       "      <th></th>\n",
       "      <th>ticker</th>\n",
       "      <th>setor</th>\n",
       "      <th>tendencia</th>\n",
       "    </tr>\n",
       "  </thead>\n",
       "  <tbody>\n",
       "    <tr>\n",
       "      <th>0</th>\n",
       "      <td>vale3</td>\n",
       "      <td>mineração</td>\n",
       "      <td>alta</td>\n",
       "    </tr>\n",
       "    <tr>\n",
       "      <th>1</th>\n",
       "      <td>itub4</td>\n",
       "      <td>financeiro</td>\n",
       "      <td>baixa</td>\n",
       "    </tr>\n",
       "  </tbody>\n",
       "</table>\n",
       "</div>"
      ],
      "text/plain": [
       "  ticker       setor tendencia\n",
       "0  vale3   mineração      alta\n",
       "1  itub4  financeiro     baixa"
      ]
     },
     "execution_count": 83,
     "metadata": {},
     "output_type": "execute_result"
    }
   ],
   "source": [
    "pd.merge(df1, df2, how= 'inner' , on = 'ticker') # INNER -> APENAS O QUE TEM NOS 2 DF (UNIÃO)\n",
    "                                                 # ON -> USANDO COMO BASE A COLUNA 'TICKER' (ELEMENTOS EM COMUM) (COLUNAS COM MESMO NOME)"
   ]
  },
  {
   "cell_type": "markdown",
   "id": "6a4eddda-8d5c-4cd3-84c3-09b689b40840",
   "metadata": {},
   "source": [
    "### HOW = 'OUTER'"
   ]
  },
  {
   "cell_type": "code",
   "execution_count": 118,
   "id": "b51bc4a6-ec12-43d7-bf44-86d7d2811d17",
   "metadata": {},
   "outputs": [
    {
     "data": {
      "text/html": [
       "<div>\n",
       "<style scoped>\n",
       "    .dataframe tbody tr th:only-of-type {\n",
       "        vertical-align: middle;\n",
       "    }\n",
       "\n",
       "    .dataframe tbody tr th {\n",
       "        vertical-align: top;\n",
       "    }\n",
       "\n",
       "    .dataframe thead th {\n",
       "        text-align: right;\n",
       "    }\n",
       "</style>\n",
       "<table border=\"1\" class=\"dataframe\">\n",
       "  <thead>\n",
       "    <tr style=\"text-align: right;\">\n",
       "      <th></th>\n",
       "      <th>ticker</th>\n",
       "      <th>setor</th>\n",
       "      <th>tendencia</th>\n",
       "    </tr>\n",
       "  </thead>\n",
       "  <tbody>\n",
       "    <tr>\n",
       "      <th>0</th>\n",
       "      <td>goll4</td>\n",
       "      <td>NaN</td>\n",
       "      <td>consolidação</td>\n",
       "    </tr>\n",
       "    <tr>\n",
       "      <th>1</th>\n",
       "      <td>itub4</td>\n",
       "      <td>financeiro</td>\n",
       "      <td>baixa</td>\n",
       "    </tr>\n",
       "    <tr>\n",
       "      <th>2</th>\n",
       "      <td>petr4</td>\n",
       "      <td>óleo e gás</td>\n",
       "      <td>NaN</td>\n",
       "    </tr>\n",
       "    <tr>\n",
       "      <th>3</th>\n",
       "      <td>vale3</td>\n",
       "      <td>mineração</td>\n",
       "      <td>alta</td>\n",
       "    </tr>\n",
       "  </tbody>\n",
       "</table>\n",
       "</div>"
      ],
      "text/plain": [
       "  ticker       setor     tendencia\n",
       "0  goll4         NaN  consolidação\n",
       "1  itub4  financeiro         baixa\n",
       "2  petr4  óleo e gás           NaN\n",
       "3  vale3   mineração          alta"
      ]
     },
     "execution_count": 118,
     "metadata": {},
     "output_type": "execute_result"
    }
   ],
   "source": [
    "pd.merge(df1 , df2 , how = \"outer\") #OUTER -> TRAZ TODAS AS COLUNAS DE TODAS AS TABELAS (NaN para parametros faltantes)"
   ]
  },
  {
   "cell_type": "markdown",
   "id": "db0bd341-31eb-4073-b6b5-f4e37b74929e",
   "metadata": {},
   "source": [
    "### HOW = 'LEFT'"
   ]
  },
  {
   "cell_type": "code",
   "execution_count": 87,
   "id": "4b06775e-3e1d-4cca-9df9-077c91987532",
   "metadata": {},
   "outputs": [
    {
     "data": {
      "text/html": [
       "<div>\n",
       "<style scoped>\n",
       "    .dataframe tbody tr th:only-of-type {\n",
       "        vertical-align: middle;\n",
       "    }\n",
       "\n",
       "    .dataframe tbody tr th {\n",
       "        vertical-align: top;\n",
       "    }\n",
       "\n",
       "    .dataframe thead th {\n",
       "        text-align: right;\n",
       "    }\n",
       "</style>\n",
       "<table border=\"1\" class=\"dataframe\">\n",
       "  <thead>\n",
       "    <tr style=\"text-align: right;\">\n",
       "      <th></th>\n",
       "      <th>ticker</th>\n",
       "      <th>setor</th>\n",
       "      <th>tendencia</th>\n",
       "    </tr>\n",
       "  </thead>\n",
       "  <tbody>\n",
       "    <tr>\n",
       "      <th>0</th>\n",
       "      <td>petr4</td>\n",
       "      <td>óleo e gás</td>\n",
       "      <td>NaN</td>\n",
       "    </tr>\n",
       "    <tr>\n",
       "      <th>1</th>\n",
       "      <td>vale3</td>\n",
       "      <td>mineração</td>\n",
       "      <td>alta</td>\n",
       "    </tr>\n",
       "    <tr>\n",
       "      <th>2</th>\n",
       "      <td>itub4</td>\n",
       "      <td>financeiro</td>\n",
       "      <td>baixa</td>\n",
       "    </tr>\n",
       "  </tbody>\n",
       "</table>\n",
       "</div>"
      ],
      "text/plain": [
       "  ticker       setor tendencia\n",
       "0  petr4  óleo e gás       NaN\n",
       "1  vale3   mineração      alta\n",
       "2  itub4  financeiro     baixa"
      ]
     },
     "execution_count": 87,
     "metadata": {},
     "output_type": "execute_result"
    }
   ],
   "source": [
    "pd.merge(df1 , df2 , how = \"left\") # LEFT -> TRAZ AS COLUNAS DO DATAFRAME ESQUERDO (NaN para paramentros faltantes)"
   ]
  },
  {
   "cell_type": "markdown",
   "id": "be03974b-ec75-4f5f-96e7-5d6603a93207",
   "metadata": {},
   "source": [
    "### HOW = 'RIGHT'"
   ]
  },
  {
   "cell_type": "code",
   "execution_count": 89,
   "id": "72288d71-3f20-42d6-8d12-4e6ee289275f",
   "metadata": {},
   "outputs": [
    {
     "data": {
      "text/html": [
       "<div>\n",
       "<style scoped>\n",
       "    .dataframe tbody tr th:only-of-type {\n",
       "        vertical-align: middle;\n",
       "    }\n",
       "\n",
       "    .dataframe tbody tr th {\n",
       "        vertical-align: top;\n",
       "    }\n",
       "\n",
       "    .dataframe thead th {\n",
       "        text-align: right;\n",
       "    }\n",
       "</style>\n",
       "<table border=\"1\" class=\"dataframe\">\n",
       "  <thead>\n",
       "    <tr style=\"text-align: right;\">\n",
       "      <th></th>\n",
       "      <th>ticker</th>\n",
       "      <th>setor</th>\n",
       "      <th>tendencia</th>\n",
       "    </tr>\n",
       "  </thead>\n",
       "  <tbody>\n",
       "    <tr>\n",
       "      <th>0</th>\n",
       "      <td>vale3</td>\n",
       "      <td>mineração</td>\n",
       "      <td>alta</td>\n",
       "    </tr>\n",
       "    <tr>\n",
       "      <th>1</th>\n",
       "      <td>itub4</td>\n",
       "      <td>financeiro</td>\n",
       "      <td>baixa</td>\n",
       "    </tr>\n",
       "    <tr>\n",
       "      <th>2</th>\n",
       "      <td>goll4</td>\n",
       "      <td>NaN</td>\n",
       "      <td>consolidação</td>\n",
       "    </tr>\n",
       "  </tbody>\n",
       "</table>\n",
       "</div>"
      ],
      "text/plain": [
       "  ticker       setor     tendencia\n",
       "0  vale3   mineração          alta\n",
       "1  itub4  financeiro         baixa\n",
       "2  goll4         NaN  consolidação"
      ]
     },
     "execution_count": 89,
     "metadata": {},
     "output_type": "execute_result"
    }
   ],
   "source": [
    "pd.merge(df1 , df2 , how = \"right\") # Right -> TRAZ AS COLUNAS DO DATAFRAME DIREITO (NaN para paramentros faltantes)"
   ]
  },
  {
   "cell_type": "markdown",
   "id": "f488e464-435a-4fb2-a53d-20c8e1c006d6",
   "metadata": {},
   "source": [
    "### RIGHT_ON / LEFT_ON"
   ]
  },
  {
   "cell_type": "code",
   "execution_count": 103,
   "id": "814d98b6-ee55-4914-997d-896963630da1",
   "metadata": {},
   "outputs": [
    {
     "data": {
      "text/html": [
       "<div>\n",
       "<style scoped>\n",
       "    .dataframe tbody tr th:only-of-type {\n",
       "        vertical-align: middle;\n",
       "    }\n",
       "\n",
       "    .dataframe tbody tr th {\n",
       "        vertical-align: top;\n",
       "    }\n",
       "\n",
       "    .dataframe thead th {\n",
       "        text-align: right;\n",
       "    }\n",
       "</style>\n",
       "<table border=\"1\" class=\"dataframe\">\n",
       "  <thead>\n",
       "    <tr style=\"text-align: right;\">\n",
       "      <th></th>\n",
       "      <th>ticker</th>\n",
       "      <th>setor</th>\n",
       "      <th>tickers</th>\n",
       "      <th>tendencia</th>\n",
       "    </tr>\n",
       "  </thead>\n",
       "  <tbody>\n",
       "    <tr>\n",
       "      <th>0</th>\n",
       "      <td>vale3</td>\n",
       "      <td>mineração</td>\n",
       "      <td>vale3</td>\n",
       "      <td>alta</td>\n",
       "    </tr>\n",
       "    <tr>\n",
       "      <th>1</th>\n",
       "      <td>itub4</td>\n",
       "      <td>financeiro</td>\n",
       "      <td>itub4</td>\n",
       "      <td>baixa</td>\n",
       "    </tr>\n",
       "  </tbody>\n",
       "</table>\n",
       "</div>"
      ],
      "text/plain": [
       "  ticker       setor tickers tendencia\n",
       "0  vale3   mineração   vale3      alta\n",
       "1  itub4  financeiro   itub4     baixa"
      ]
     },
     "execution_count": 103,
     "metadata": {},
     "output_type": "execute_result"
    }
   ],
   "source": [
    "df3 = pd.DataFrame({'ticker' : ['petr4','vale3','itub4'] , 'setor' : ['óleo e gás', 'mineração', 'financeiro']})\n",
    "df4 = pd.DataFrame({'tickers' : ['vale3','itub4','goll4'] , 'tendencia' : ['alta', 'baixa' ,'consolidação']})\n",
    "pd.merge(df3 , df4 , how = 'inner' , left_on = 'ticker' , right_on = 'tickers')\n",
    "\n",
    "#LEFT_ON , RIGHT_ON --> SERVE COMO 'ON' PORÉM QUANDO AS COLUNAS POSSUEM NOME DIFERENTES (MAS SÃO A MESMAS INFORMAÇÃO)"
   ]
  },
  {
   "cell_type": "markdown",
   "id": "c4886231-8298-4b75-8806-f04b46949982",
   "metadata": {},
   "source": [
    "### RIGHT_INDEX / LEFT_INDEX"
   ]
  },
  {
   "cell_type": "code",
   "execution_count": 111,
   "id": "1f946aa9-c4a3-4ee5-ae9b-dbb13a86917d",
   "metadata": {},
   "outputs": [
    {
     "data": {
      "text/html": [
       "<div>\n",
       "<style scoped>\n",
       "    .dataframe tbody tr th:only-of-type {\n",
       "        vertical-align: middle;\n",
       "    }\n",
       "\n",
       "    .dataframe tbody tr th {\n",
       "        vertical-align: top;\n",
       "    }\n",
       "\n",
       "    .dataframe thead th {\n",
       "        text-align: right;\n",
       "    }\n",
       "</style>\n",
       "<table border=\"1\" class=\"dataframe\">\n",
       "  <thead>\n",
       "    <tr style=\"text-align: right;\">\n",
       "      <th></th>\n",
       "      <th>ticker_x</th>\n",
       "      <th>setor</th>\n",
       "      <th>ticker_y</th>\n",
       "      <th>tendencia</th>\n",
       "    </tr>\n",
       "  </thead>\n",
       "  <tbody>\n",
       "    <tr>\n",
       "      <th>0</th>\n",
       "      <td>petr4</td>\n",
       "      <td>óleo e gás</td>\n",
       "      <td>vale3</td>\n",
       "      <td>alta</td>\n",
       "    </tr>\n",
       "    <tr>\n",
       "      <th>1</th>\n",
       "      <td>vale3</td>\n",
       "      <td>mineração</td>\n",
       "      <td>itub4</td>\n",
       "      <td>baixa</td>\n",
       "    </tr>\n",
       "    <tr>\n",
       "      <th>2</th>\n",
       "      <td>itub4</td>\n",
       "      <td>financeiro</td>\n",
       "      <td>goll4</td>\n",
       "      <td>consolidação</td>\n",
       "    </tr>\n",
       "  </tbody>\n",
       "</table>\n",
       "</div>"
      ],
      "text/plain": [
       "  ticker_x       setor ticker_y     tendencia\n",
       "0    petr4  óleo e gás    vale3          alta\n",
       "1    vale3   mineração    itub4         baixa\n",
       "2    itub4  financeiro    goll4  consolidação"
      ]
     },
     "execution_count": 111,
     "metadata": {},
     "output_type": "execute_result"
    }
   ],
   "source": [
    "pd.merge(df1 , df2 , how ='inner' , left_index = True, right_index = True) \n",
    "\n",
    "#LEFT_INDEX , RIGHT_INDEX --> SERVE COMO 'ON' / 'RIGHT_ON/LEFT_ON' , POREM PARA INDICES E NÃO COLUNAS\n",
    "#USADO NORMALMENTE QUANDO NÃO TEM COLUNAS REPETIDAS EM AMBOS"
   ]
  },
  {
   "cell_type": "markdown",
   "id": "b793db1d-448a-4a7d-aa8d-b6563d35f4b4",
   "metadata": {},
   "source": [
    "### SORT = True"
   ]
  },
  {
   "cell_type": "code",
   "execution_count": 131,
   "id": "f95fc4a3-42fa-41f1-baf0-b235a6536465",
   "metadata": {},
   "outputs": [
    {
     "data": {
      "text/html": [
       "<div>\n",
       "<style scoped>\n",
       "    .dataframe tbody tr th:only-of-type {\n",
       "        vertical-align: middle;\n",
       "    }\n",
       "\n",
       "    .dataframe tbody tr th {\n",
       "        vertical-align: top;\n",
       "    }\n",
       "\n",
       "    .dataframe thead th {\n",
       "        text-align: right;\n",
       "    }\n",
       "</style>\n",
       "<table border=\"1\" class=\"dataframe\">\n",
       "  <thead>\n",
       "    <tr style=\"text-align: right;\">\n",
       "      <th></th>\n",
       "      <th>ID</th>\n",
       "      <th>Valor</th>\n",
       "      <th>Nome</th>\n",
       "    </tr>\n",
       "  </thead>\n",
       "  <tbody>\n",
       "    <tr>\n",
       "      <th>0</th>\n",
       "      <td>1</td>\n",
       "      <td>300</td>\n",
       "      <td>a</td>\n",
       "    </tr>\n",
       "    <tr>\n",
       "      <th>1</th>\n",
       "      <td>2</td>\n",
       "      <td>200</td>\n",
       "      <td>b</td>\n",
       "    </tr>\n",
       "    <tr>\n",
       "      <th>2</th>\n",
       "      <td>3</td>\n",
       "      <td>100</td>\n",
       "      <td>c</td>\n",
       "    </tr>\n",
       "  </tbody>\n",
       "</table>\n",
       "</div>"
      ],
      "text/plain": [
       "   ID  Valor Nome\n",
       "0   1    300    a\n",
       "1   2    200    b\n",
       "2   3    100    c"
      ]
     },
     "execution_count": 131,
     "metadata": {},
     "output_type": "execute_result"
    }
   ],
   "source": [
    "# ORDENA DATAFRAME RESULTANTE PELA CHAVE DE JUNÇÃO (ON, RIGHT/LEFT _ON , RIGHT/LEFT _INDEX)\n",
    "\n",
    "dfx = pd.DataFrame({'ID' : [3,2,1] , 'Valor' : [100,200,300]})\n",
    "dfy = pd.DataFrame({'ID' : [1,2,3] , 'Nome' : ['a','b','c']})\n",
    "\n",
    "resultado1 = pd.merge(dfx , dfy , on = 'ID',sort = True )\n",
    "resultado1"
   ]
  },
  {
   "cell_type": "markdown",
   "id": "4e989ec7-9efa-43a9-979b-6121a2a017b9",
   "metadata": {},
   "source": [
    "### SUFFIXES"
   ]
  },
  {
   "cell_type": "code",
   "execution_count": 142,
   "id": "48d0ddcc-1905-4476-81cc-ab1c3c010b80",
   "metadata": {},
   "outputs": [
    {
     "data": {
      "text/html": [
       "<div>\n",
       "<style scoped>\n",
       "    .dataframe tbody tr th:only-of-type {\n",
       "        vertical-align: middle;\n",
       "    }\n",
       "\n",
       "    .dataframe tbody tr th {\n",
       "        vertical-align: top;\n",
       "    }\n",
       "\n",
       "    .dataframe thead th {\n",
       "        text-align: right;\n",
       "    }\n",
       "</style>\n",
       "<table border=\"1\" class=\"dataframe\">\n",
       "  <thead>\n",
       "    <tr style=\"text-align: right;\">\n",
       "      <th></th>\n",
       "      <th>ID</th>\n",
       "      <th>Nome_esquerda</th>\n",
       "      <th>idade</th>\n",
       "      <th>Nome_direita</th>\n",
       "      <th>salario</th>\n",
       "    </tr>\n",
       "  </thead>\n",
       "  <tbody>\n",
       "    <tr>\n",
       "      <th>0</th>\n",
       "      <td>1</td>\n",
       "      <td>alice</td>\n",
       "      <td>25</td>\n",
       "      <td>carlos</td>\n",
       "      <td>5000</td>\n",
       "    </tr>\n",
       "    <tr>\n",
       "      <th>1</th>\n",
       "      <td>2</td>\n",
       "      <td>bob</td>\n",
       "      <td>30</td>\n",
       "      <td>daniel</td>\n",
       "      <td>6000</td>\n",
       "    </tr>\n",
       "  </tbody>\n",
       "</table>\n",
       "</div>"
      ],
      "text/plain": [
       "   ID Nome_esquerda  idade Nome_direita  salario\n",
       "0   1         alice     25       carlos     5000\n",
       "1   2           bob     30       daniel     6000"
      ]
     },
     "execution_count": 142,
     "metadata": {},
     "output_type": "execute_result"
    }
   ],
   "source": [
    "df_x = pd.DataFrame({'ID' : [1,2] , 'Nome' : ['alice','bob'] , 'idade' : [25,30]})\n",
    "df_y = pd.DataFrame({'ID' : [1,2] , 'Nome' : ['carlos','daniel'] , 'salario' : [5000, 6000]})\n",
    "\n",
    "resultado = pd.merge(df_x , df_y, on='ID', suffixes = ('_esquerda' , '_direita'))\n",
    "resultado"
   ]
  },
  {
   "cell_type": "code",
   "execution_count": null,
   "id": "99f615c5-04fb-493c-b4ba-f69e936cb846",
   "metadata": {},
   "outputs": [],
   "source": []
  }
 ],
 "metadata": {
  "kernelspec": {
   "display_name": "Python [conda env:base] *",
   "language": "python",
   "name": "conda-base-py"
  },
  "language_info": {
   "codemirror_mode": {
    "name": "ipython",
    "version": 3
   },
   "file_extension": ".py",
   "mimetype": "text/x-python",
   "name": "python",
   "nbconvert_exporter": "python",
   "pygments_lexer": "ipython3",
   "version": "3.12.7"
  }
 },
 "nbformat": 4,
 "nbformat_minor": 5
}
