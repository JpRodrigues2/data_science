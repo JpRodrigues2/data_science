{
 "cells": [
  {
   "cell_type": "code",
   "execution_count": 1,
   "id": "cc80ae38-1b29-45ca-95b9-bb747b3a33b1",
   "metadata": {},
   "outputs": [],
   "source": [
    "from scipy.stats import t"
   ]
  },
  {
   "cell_type": "code",
   "execution_count": 3,
   "id": "bd57a3c3-657a-44b8-84f0-55db91efe0d9",
   "metadata": {},
   "outputs": [
    {
     "data": {
      "text/plain": [
       "0.9139983540240443"
      ]
     },
     "execution_count": 3,
     "metadata": {},
     "output_type": "execute_result"
    }
   ],
   "source": [
    "t.cdf(1.5,8)"
   ]
  },
  {
   "cell_type": "code",
   "execution_count": 5,
   "id": "33723745-9259-4d8c-b180-2088d4879aab",
   "metadata": {},
   "outputs": [
    {
     "data": {
      "text/plain": [
       "0.08600164597595565"
      ]
     },
     "execution_count": 5,
     "metadata": {},
     "output_type": "execute_result"
    }
   ],
   "source": [
    "t.sf(1.5,8)"
   ]
  },
  {
   "cell_type": "code",
   "execution_count": 7,
   "id": "2a0d0293-501f-4aeb-85ac-b64c71ef17ef",
   "metadata": {},
   "outputs": [
    {
     "data": {
      "text/plain": [
       "0.9999999999999999"
      ]
     },
     "execution_count": 7,
     "metadata": {},
     "output_type": "execute_result"
    }
   ],
   "source": [
    "t.cdf(1.5,8) + t.sf(1.5,8)"
   ]
  },
  {
   "cell_type": "code",
   "execution_count": null,
   "id": "6262058b-14e9-422e-aafa-534472f4371c",
   "metadata": {},
   "outputs": [],
   "source": []
  }
 ],
 "metadata": {
  "kernelspec": {
   "display_name": "Python [conda env:base] *",
   "language": "python",
   "name": "conda-base-py"
  },
  "language_info": {
   "codemirror_mode": {
    "name": "ipython",
    "version": 3
   },
   "file_extension": ".py",
   "mimetype": "text/x-python",
   "name": "python",
   "nbconvert_exporter": "python",
   "pygments_lexer": "ipython3",
   "version": "3.12.7"
  }
 },
 "nbformat": 4,
 "nbformat_minor": 5
}
