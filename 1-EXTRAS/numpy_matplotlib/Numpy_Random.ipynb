{
 "cells": [
  {
   "cell_type": "markdown",
   "id": "5630b1bc-306e-45c9-8440-928cf66235b8",
   "metadata": {},
   "source": [
    "### RANDOM.RAND"
   ]
  },
  {
   "cell_type": "code",
   "execution_count": 3,
   "id": "3f3cd5b8-7ec7-4195-ba27-f4f57a395879",
   "metadata": {},
   "outputs": [
    {
     "data": {
      "text/plain": [
       "array([[0.73976805, 0.42254802, 0.23065599],\n",
       "       [0.20600941, 0.587985  , 0.56972454]])"
      ]
     },
     "execution_count": 3,
     "metadata": {},
     "output_type": "execute_result"
    }
   ],
   "source": [
    "import numpy as np\n",
    "# Gera números aleatórios de distribuição uniforme entre 0 e 1\n",
    "# Gera uma matriz 2x3 de números aleatórios uniformemente distribuídos entre 0 e 1\n",
    "arr = np.random.rand(2,3)\n",
    "arr"
   ]
  },
  {
   "cell_type": "markdown",
   "id": "f15f8174-4d89-4cb8-b85f-0dbfd80ce82b",
   "metadata": {},
   "source": [
    "### RANDOM.RANDINT"
   ]
  },
  {
   "cell_type": "code",
   "execution_count": 6,
   "id": "b038ba6b-f173-4eab-b8cb-74285b1071af",
   "metadata": {},
   "outputs": [
    {
     "data": {
      "text/plain": [
       "array([[22,  0, 37],\n",
       "       [66,  8, 62]])"
      ]
     },
     "execution_count": 6,
     "metadata": {},
     "output_type": "execute_result"
    }
   ],
   "source": [
    "# Gera números inteiros aleatórios dentro de um intervalo especificado.\n",
    "# Gera um número inteiro aleatório entre 0 e 9\n",
    "num = np.random.randint(0, 10)\n",
    "# Gera uma matriz 2x3 de números inteiros aleatórios entre 0 e 100\n",
    "arr = np.random.randint(0, 100, size=(2, 3))\n",
    "arr"
   ]
  },
  {
   "cell_type": "markdown",
   "id": "75abfdc5-0ce6-41cf-af8d-c448ff45d1be",
   "metadata": {},
   "source": [
    "### RANDOM.RANDN"
   ]
  },
  {
   "cell_type": "code",
   "execution_count": 24,
   "id": "9be46879-7d83-4ef1-b94e-423555c84d9d",
   "metadata": {},
   "outputs": [
    {
     "data": {
      "text/plain": [
       "array([[ 1.57921282,  0.76743473, -0.46947439],\n",
       "       [ 0.54256004, -0.46341769, -0.46572975]])"
      ]
     },
     "execution_count": 24,
     "metadata": {},
     "output_type": "execute_result"
    }
   ],
   "source": [
    "# Gera números aleatórios com distribuição normal padrão\n",
    "# Gera uma matriz 2x3 de números aleatórios com distribuição normal\n",
    "arr = np.random.randn(2, 3)\n",
    "arr"
   ]
  },
  {
   "cell_type": "markdown",
   "id": "9bd27f2b-7cc8-4087-a126-56162af99abd",
   "metadata": {},
   "source": [
    "### RANDOM.CHOICE"
   ]
  },
  {
   "cell_type": "code",
   "execution_count": 26,
   "id": "a73d2963-be31-4996-b556-e8fb1583ae12",
   "metadata": {},
   "outputs": [
    {
     "data": {
      "text/plain": [
       "array([4, 2, 5])"
      ]
     },
     "execution_count": 26,
     "metadata": {},
     "output_type": "execute_result"
    }
   ],
   "source": [
    "# Escolhe aleatoriamente 3 elementos da lista\n",
    "# Escolhe aleatoriamente elementos de uma lista, com ou sem reposição.\n",
    "arr = np.random.choice([1, 2, 3, 4, 5], size=3)\n",
    "arr"
   ]
  },
  {
   "cell_type": "markdown",
   "id": "cea60eb6-9519-46d4-8622-12dd5a326915",
   "metadata": {},
   "source": [
    "### RANDOM.SEED"
   ]
  },
  {
   "cell_type": "code",
   "execution_count": 28,
   "id": "e415a428-b7f4-437c-9092-1dd10fe27a5a",
   "metadata": {},
   "outputs": [
    {
     "data": {
      "text/plain": [
       "array([[0.37454012, 0.95071431, 0.73199394],\n",
       "       [0.59865848, 0.15601864, 0.15599452]])"
      ]
     },
     "execution_count": 28,
     "metadata": {},
     "output_type": "execute_result"
    }
   ],
   "source": [
    "np.random.seed(42)  # Define a semente\n",
    "arr = np.random.rand(2, 3)  # Gera números aleatórios com a mesma semente\n",
    "arr"
   ]
  },
  {
   "cell_type": "code",
   "execution_count": null,
   "id": "379f7a02-7963-4ec3-afa1-898a429c8066",
   "metadata": {},
   "outputs": [],
   "source": []
  }
 ],
 "metadata": {
  "kernelspec": {
   "display_name": "Python [conda env:base] *",
   "language": "python",
   "name": "conda-base-py"
  },
  "language_info": {
   "codemirror_mode": {
    "name": "ipython",
    "version": 3
   },
   "file_extension": ".py",
   "mimetype": "text/x-python",
   "name": "python",
   "nbconvert_exporter": "python",
   "pygments_lexer": "ipython3",
   "version": "3.12.7"
  }
 },
 "nbformat": 4,
 "nbformat_minor": 5
}
