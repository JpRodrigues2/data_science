{
 "cells": [
  {
   "cell_type": "markdown",
   "id": "5630b1bc-306e-45c9-8440-928cf66235b8",
   "metadata": {},
   "source": [
    "### RANDOM.RAND"
   ]
  },
  {
   "cell_type": "code",
   "execution_count": null,
   "id": "3f3cd5b8-7ec7-4195-ba27-f4f57a395879",
   "metadata": {},
   "outputs": [],
   "source": [
    "import numpy as np\n",
    "# Gera números aleatórios de distribuição uniforme entre 0 e 1\n",
    "# Gera uma matriz 2x3 de números aleatórios uniformemente distribuídos entre 0 e 1\n",
    "arr = np.random.rand(2,3)\n",
    "arr"
   ]
  },
  {
   "cell_type": "markdown",
   "id": "f15f8174-4d89-4cb8-b85f-0dbfd80ce82b",
   "metadata": {},
   "source": [
    "### RANDOM.RANDINT"
   ]
  },
  {
   "cell_type": "code",
   "execution_count": null,
   "id": "b038ba6b-f173-4eab-b8cb-74285b1071af",
   "metadata": {},
   "outputs": [],
   "source": [
    "# Gera números inteiros aleatórios dentro de um intervalo especificado.\n",
    "# Gera um número inteiro aleatório entre 0 e 9\n",
    "num = np.random.randint(0, 10)\n",
    "# Gera uma matriz 2x3 de números inteiros aleatórios entre 0 e 100\n",
    "arr = np.random.randint(0, 100, size=(2, 3))\n",
    "arr"
   ]
  },
  {
   "cell_type": "markdown",
   "id": "75abfdc5-0ce6-41cf-af8d-c448ff45d1be",
   "metadata": {},
   "source": [
    "### RANDOM.RANDN"
   ]
  },
  {
   "cell_type": "code",
   "execution_count": null,
   "id": "9be46879-7d83-4ef1-b94e-423555c84d9d",
   "metadata": {},
   "outputs": [],
   "source": []
  }
 ],
 "metadata": {
  "kernelspec": {
   "display_name": "Python [conda env:base] *",
   "language": "python",
   "name": "conda-base-py"
  },
  "language_info": {
   "codemirror_mode": {
    "name": "ipython",
    "version": 3
   },
   "file_extension": ".py",
   "mimetype": "text/x-python",
   "name": "python",
   "nbconvert_exporter": "python",
   "pygments_lexer": "ipython3",
   "version": "3.12.7"
  }
 },
 "nbformat": 4,
 "nbformat_minor": 5
}
