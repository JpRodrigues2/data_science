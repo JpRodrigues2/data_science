{
 "cells": [
  {
   "cell_type": "code",
   "execution_count": null,
   "id": "4f9b8746-1ea3-457f-a40f-85b04c842d3a",
   "metadata": {},
   "outputs": [],
   "source": [
    "import matplotlib.pyplot as plt\n",
    "import numpy as np\n",
    "\n",
    "t = np.linspace(-np.pi,np.pi,500)\n",
    "c = np.cos(t)\n",
    "s = np.sin(t)\n",
    "\n",
    "\n",
    "ax1 = plt.subplot(2,1,1) #nlinhas, ncolunas, índice (2 linha com 1 colunas)\n",
    "plt.plot(t,c)\n",
    "ax1.set_title(\"Gráfico do Cosseno\")\n",
    "\n",
    "\n",
    "ax2 = plt.subplot(2,1,2)\n",
    "plt.plot(t,s)\n",
    "ax2.set_title(\"Gráfico do seno\")\n",
    "\n",
    "plt.tight_layout() #Ajusta os subplots para não sobrepor títulos"
   ]
  }
 ],
 "metadata": {
  "kernelspec": {
   "display_name": "Python [conda env:base] *",
   "language": "python",
   "name": "conda-base-py"
  },
  "language_info": {
   "codemirror_mode": {
    "name": "ipython",
    "version": 3
   },
   "file_extension": ".py",
   "mimetype": "text/x-python",
   "name": "python",
   "nbconvert_exporter": "python",
   "pygments_lexer": "ipython3",
   "version": "3.12.7"
  }
 },
 "nbformat": 4,
 "nbformat_minor": 5
}
